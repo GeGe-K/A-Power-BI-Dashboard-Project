{
 "cells": [
  {
   "cell_type": "markdown",
   "metadata": {},
   "source": [
    "## Business Understanding"
   ]
  },
  {
   "cell_type": "markdown",
   "metadata": {},
   "source": [
    "### `Project Description`\n",
    "Imagine being at the helm of a business with a treasure trove of transactional data, brimming with untapped potential, yet unable to harness its power. That's where our client finds themselves—a company sitting on a goldmine of 2019 transactional data, eager to uncover insights that could propel their business to new heights. They've turned to us, seeking a transformative business intelligence solution that not only answers their pressing questions but also illuminates hidden opportunities to boost sales and streamline operations.\n",
    "\n",
    "Enter getINNOtized, a dynamic organization dedicated to connecting talented data professionals with businesses in need of innovative data solutions. Through their platform, companies can leverage top-tier analytical expertise to unlock the full potential of their data. getINNOtized has assigned us this mission, confident in our ability to deliver a comprehensive, actionable business intelligence report that will empower the client to make informed, strategic decisions. Our task is clear: dive deep into this data, decode its secrets, and deliver insights that guide the client towards increased revenue and enhanced efficiency."
   ]
  },
  {
   "cell_type": "markdown",
   "metadata": {},
   "source": [
    "#### **Key Stakeholders**\n",
    "The stakeholders include the client's company executives, sales and marketing team, product management team, logistics and supply chain team, IT and data team, getINNOtized and external stakeholders(investors and suppliers)\n",
    "\n",
    "#### **Success Criteria**\n",
    "\n",
    "The success of this project will be measured by the ability to deliver a detailed and actionable business intelligence report that answers the client's questions and provides insights for driving sales and efficiency. The report should be clear, visually appealing, and easy to understand, providing the client with a solid foundation for making data-driven decisions.\n",
    "\n",
    "#### **Constraints and Considerations**\n",
    "\n",
    "- Data Quality: Ensure the data is clean, accurate, and complete before analysis.\n",
    "- Timeliness: The analysis and report should be delivered within the agreed-upon timeframe.\n",
    "- Client Collaboration: Regular communication with the client to understand their needs and provide updates on progress.\n",
    "- Tool Selection: Utilize appropriate data analysis and visualization tools to generate insights and present findings effectively.\n",
    "\n",
    "#### **Data Requirements**\n",
    "- Utilize data that was collected for each month in the entire year of 2019. The data for the first half of the year (January to June) was collected in excel and saved as csv files before management decided to use databases to store their data for analysis.\n",
    "\n",
    "**<i>NB</i>** Additionally, categorize products based on their unit prices:\n",
    "- Products with unit prices above $99.99 should be labeled as high-level products.\n",
    "- Products with unit prices $99.99 and below should be labeled as basic-level products.\n",
    "\n",
    "#### **Business Impact**\n",
    "- Enhance customer satisfaction through better product availability.\n",
    "- Optimize inventory management, leading to cost savings and improved operational efficiency.\n",
    "\n",
    "### `Hypothesis`\n",
    "\n",
    "*Null Hypothesis (Ho):* \n",
    "\n",
    "*Alternate Hypothesis (Ha):* \n",
    "\n",
    "### `Analytical Business Questions`\n",
    "\n",
    "1. How much money did we make this year?\n",
    "2. Can we identify any seasonality in the  sales?\n",
    "3. What are our best and worst-selling products?\n",
    "4. How do sales compare to previous months or weeks? \n",
    "5. Which cities are our products delivered to most? \n",
    "6. How do product categories compare in revenue generated and quantities  ordered?\n",
    "7. You are required to show additional details from your findings in your data."
   ]
  },
  {
   "cell_type": "markdown",
   "metadata": {},
   "source": [
    "### `Importations`"
   ]
  },
  {
   "cell_type": "code",
   "execution_count": 127,
   "metadata": {},
   "outputs": [
    {
     "name": "stdout",
     "output_type": "stream",
     "text": [
      "PACKAGE SUCCESS!! 🎉\n"
     ]
    }
   ],
   "source": [
    "# Import the necessary libraries\n",
    "\n",
    "# Data Connection\n",
    "import pyodbc\n",
    "from dotenv import dotenv_values\n",
    "\n",
    "# Data Manipulation\n",
    "import numpy as np\n",
    "import pandas as pd\n",
    "\n",
    "# Data Visualization\n",
    "import matplotlib.pyplot as plt\n",
    "import seaborn as sns\n",
    "\n",
    "# Stats Packages\n",
    "from scipy.stats import stats\n",
    "\n",
    "\n",
    "# Others\n",
    "from datetime import datetime\n",
    "import os\n",
    "from itertools import product\n",
    "pd.options.display.float_format = '{:.2f}'.format\n",
    "import warnings\n",
    "warnings.filterwarnings('ignore')\n",
    "\n",
    "print(\"PACKAGE SUCCESS!! 🎉\")\n"
   ]
  },
  {
   "cell_type": "markdown",
   "metadata": {},
   "source": [
    "### `Data Connection`"
   ]
  },
  {
   "cell_type": "code",
   "execution_count": 128,
   "metadata": {},
   "outputs": [],
   "source": [
    "# Load environment variables from .env file into a dictionary\n",
    "environment_variables=dotenv_values('.env')\n",
    "\n",
    "# Get the values for the credentials you set in the '.env' file\n",
    "server = environment_variables.get(\"server_name\")\n",
    "database = environment_variables.get(\"database_name\")\n",
    "username = environment_variables.get(\"user\")\n",
    "password = environment_variables.get(\"password\")\n",
    "\n",
    "connection_string=f\"DRIVER={{SQL Server}};SERVER={server};DATABASE={database};UID={username};PWD={password}\"\n",
    "\n",
    "# Use the connect method of the pyodbc library and pass in the connection string.\n",
    "connection = pyodbc.connect(connection_string)"
   ]
  },
  {
   "cell_type": "code",
   "execution_count": 129,
   "metadata": {},
   "outputs": [
    {
     "name": "stdout",
     "output_type": "stream",
     "text": [
      "Sales_August_2019\n",
      "Sales_December_2019\n",
      "Sales_July_2019\n",
      "Sales_November_2019\n",
      "Sales_October_2019\n",
      "Sales_September_2019\n",
      "change_streams_destination_type\n",
      "change_streams_partition_scheme\n",
      "trace_xe_action_map\n",
      "trace_xe_event_map\n"
     ]
    }
   ],
   "source": [
    "# Get the cursor\n",
    "# The connection cursor is used to execute statements to communicate with the MySQL database\n",
    "cursor = connection.cursor()\n",
    "# Retrieve the table names\n",
    "table_names = cursor.tables(tableType='TABLE')\n",
    "# Fetch all the table names\n",
    "tables = table_names.fetchall()\n",
    "# Print the table names\n",
    "for table in tables:\n",
    "    print(table.table_name)"
   ]
  },
  {
   "cell_type": "code",
   "execution_count": 130,
   "metadata": {},
   "outputs": [],
   "source": [
    "# sql query to get the datasets\n",
    "query = \"SELECT * FROM Sales_August_2019\"\n",
    "query2 = \"SELECT * FROM Sales_December_2019\"\n",
    "query3 = \"SELECT * FROM Sales_July_2019\"\n",
    "query4 = \"SELECT * FROM Sales_November_2019\"\n",
    "query5 = \"SELECT * FROM Sales_October_2019\"\n",
    "query6 = \"SELECT * FROM Sales_September_2019\"\n",
    "\n",
    "data=pd.read_sql(query,connection)\n",
    "data2=pd.read_sql(query2,connection)\n",
    "data3=pd.read_sql(query3,connection)\n",
    "data4=pd.read_sql(query4,connection)\n",
    "data5=pd.read_sql(query5,connection)\n",
    "data6=pd.read_sql(query6,connection)"
   ]
  },
  {
   "cell_type": "code",
   "execution_count": 131,
   "metadata": {},
   "outputs": [],
   "source": [
    "# save tables to csv\n",
    "data.to_csv('data\\Sales_August_2019.csv', index=False)\n",
    "data2.to_csv('data\\Sales_December_2019.csv', index=False)\n",
    "data3.to_csv('data\\Sales_July_2019.csv', index=False)\n",
    "data4.to_csv('data\\Sales_November_2019.csv', index=False)\n",
    "data5.to_csv('data\\Sales_October_2019.csv', index=False)\n",
    "data6.to_csv('data\\Sales_September_2019.csv', index=False)"
   ]
  },
  {
   "cell_type": "code",
   "execution_count": 132,
   "metadata": {},
   "outputs": [
    {
     "data": {
      "text/html": [
       "<div>\n",
       "<style scoped>\n",
       "    .dataframe tbody tr th:only-of-type {\n",
       "        vertical-align: middle;\n",
       "    }\n",
       "\n",
       "    .dataframe tbody tr th {\n",
       "        vertical-align: top;\n",
       "    }\n",
       "\n",
       "    .dataframe thead th {\n",
       "        text-align: right;\n",
       "    }\n",
       "</style>\n",
       "<table border=\"1\" class=\"dataframe\">\n",
       "  <thead>\n",
       "    <tr style=\"text-align: right;\">\n",
       "      <th></th>\n",
       "      <th>Order_ID</th>\n",
       "      <th>Product</th>\n",
       "      <th>Quantity_Ordered</th>\n",
       "      <th>Price_Each</th>\n",
       "      <th>Order_Date</th>\n",
       "      <th>Purchase_Address</th>\n",
       "    </tr>\n",
       "  </thead>\n",
       "  <tbody>\n",
       "    <tr>\n",
       "      <th>0</th>\n",
       "      <td>222910.00</td>\n",
       "      <td>Apple Airpods Headphones</td>\n",
       "      <td>1.00</td>\n",
       "      <td>150.00</td>\n",
       "      <td>2026-07-19 16:51:00.0000000</td>\n",
       "      <td>389 South St, Atlanta, GA 30301</td>\n",
       "    </tr>\n",
       "    <tr>\n",
       "      <th>1</th>\n",
       "      <td>222911.00</td>\n",
       "      <td>Flatscreen TV</td>\n",
       "      <td>1.00</td>\n",
       "      <td>300.00</td>\n",
       "      <td>2005-07-19 08:55:00.0000000</td>\n",
       "      <td>590 4th St, Seattle, WA 98101</td>\n",
       "    </tr>\n",
       "    <tr>\n",
       "      <th>2</th>\n",
       "      <td>222912.00</td>\n",
       "      <td>AA Batteries (4-pack)</td>\n",
       "      <td>1.00</td>\n",
       "      <td>3.84</td>\n",
       "      <td>2029-07-19 12:41:00.0000000</td>\n",
       "      <td>861 Hill St, Atlanta, GA 30301</td>\n",
       "    </tr>\n",
       "    <tr>\n",
       "      <th>3</th>\n",
       "      <td>222913.00</td>\n",
       "      <td>AA Batteries (4-pack)</td>\n",
       "      <td>1.00</td>\n",
       "      <td>3.84</td>\n",
       "      <td>2028-07-19 10:15:00.0000000</td>\n",
       "      <td>190 Ridge St, Atlanta, GA 30301</td>\n",
       "    </tr>\n",
       "    <tr>\n",
       "      <th>4</th>\n",
       "      <td>222914.00</td>\n",
       "      <td>AAA Batteries (4-pack)</td>\n",
       "      <td>5.00</td>\n",
       "      <td>2.99</td>\n",
       "      <td>2031-07-19 02:13:00.0000000</td>\n",
       "      <td>824 Forest St, Seattle, WA 98101</td>\n",
       "    </tr>\n",
       "  </tbody>\n",
       "</table>\n",
       "</div>"
      ],
      "text/plain": [
       "   Order_ID                   Product  Quantity_Ordered  Price_Each  \\\n",
       "0 222910.00  Apple Airpods Headphones              1.00      150.00   \n",
       "1 222911.00             Flatscreen TV              1.00      300.00   \n",
       "2 222912.00     AA Batteries (4-pack)              1.00        3.84   \n",
       "3 222913.00     AA Batteries (4-pack)              1.00        3.84   \n",
       "4 222914.00    AAA Batteries (4-pack)              5.00        2.99   \n",
       "\n",
       "                    Order_Date                  Purchase_Address  \n",
       "0  2026-07-19 16:51:00.0000000   389 South St, Atlanta, GA 30301  \n",
       "1  2005-07-19 08:55:00.0000000     590 4th St, Seattle, WA 98101  \n",
       "2  2029-07-19 12:41:00.0000000    861 Hill St, Atlanta, GA 30301  \n",
       "3  2028-07-19 10:15:00.0000000   190 Ridge St, Atlanta, GA 30301  \n",
       "4  2031-07-19 02:13:00.0000000  824 Forest St, Seattle, WA 98101  "
      ]
     },
     "execution_count": 132,
     "metadata": {},
     "output_type": "execute_result"
    }
   ],
   "source": [
    "data3.head()"
   ]
  },
  {
   "cell_type": "code",
   "execution_count": 133,
   "metadata": {},
   "outputs": [
    {
     "name": "stdout",
     "output_type": "stream",
     "text": [
      "<class 'pandas.core.frame.DataFrame'>\n",
      "RangeIndex: 14371 entries, 0 to 14370\n",
      "Data columns (total 6 columns):\n",
      " #   Column            Non-Null Count  Dtype  \n",
      "---  ------            --------------  -----  \n",
      " 0   Order_ID          14291 non-null  float64\n",
      " 1   Product           14326 non-null  object \n",
      " 2   Quantity_Ordered  14291 non-null  float64\n",
      " 3   Price_Each        14291 non-null  float64\n",
      " 4   Order_Date        14291 non-null  object \n",
      " 5   Purchase_Address  14326 non-null  object \n",
      "dtypes: float64(3), object(3)\n",
      "memory usage: 673.8+ KB\n"
     ]
    }
   ],
   "source": [
    "data3.info()"
   ]
  },
  {
   "cell_type": "code",
   "execution_count": 134,
   "metadata": {},
   "outputs": [],
   "source": [
    "# Read CSV and change date column from object to date type\n",
    "sales_Aug = pd.read_csv(\"data\\Sales_August_2019.csv\", parse_dates =['Order_Date'])\n",
    "sales_Dec = pd.read_csv(\"data\\Sales_December_2019.csv\", parse_dates =['Order_Date'])\n",
    "sales_Jul = pd.read_csv(\"data\\Sales_July_2019.csv\",parse_dates=['Order_Date'])\n",
    "sales_Nov = pd.read_csv(\"data\\Sales_November_2019.csv\",parse_dates=['Order_Date'])\n",
    "sales_Oct = pd.read_csv(\"data\\Sales_October_2019.csv\",parse_dates=['Order_Date'])\n",
    "sales_Sept = pd.read_csv(\"data\\Sales_September_2019.csv\",parse_dates=['Order_Date'])"
   ]
  },
  {
   "cell_type": "code",
   "execution_count": 135,
   "metadata": {},
   "outputs": [
    {
     "name": "stdout",
     "output_type": "stream",
     "text": [
      "<class 'pandas.core.frame.DataFrame'>\n",
      "RangeIndex: 17661 entries, 0 to 17660\n",
      "Data columns (total 6 columns):\n",
      " #   Column            Non-Null Count  Dtype         \n",
      "---  ------            --------------  -----         \n",
      " 0   Order_ID          17580 non-null  float64       \n",
      " 1   Product           17616 non-null  object        \n",
      " 2   Quantity_Ordered  17580 non-null  float64       \n",
      " 3   Price_Each        17580 non-null  float64       \n",
      " 4   Order_Date        17580 non-null  datetime64[ns]\n",
      " 5   Purchase_Address  17616 non-null  object        \n",
      "dtypes: datetime64[ns](1), float64(3), object(2)\n",
      "memory usage: 828.0+ KB\n"
     ]
    }
   ],
   "source": [
    "sales_Nov.info()"
   ]
  },
  {
   "cell_type": "code",
   "execution_count": 136,
   "metadata": {},
   "outputs": [],
   "source": [
    "# Remove microseconds by formatting the datetime without microseconds\n",
    "sales_Aug['Order_Date'] = sales_Aug['Order_Date'].dt.floor('S')\n",
    "sales_Dec['Order_Date'] = sales_Dec['Order_Date'].dt.floor('S')\n",
    "sales_Jul['Order_Date'] = sales_Jul['Order_Date'].dt.floor('S')\n",
    "sales_Nov['Order_Date'] = sales_Nov['Order_Date'].dt.floor('S')\n",
    "sales_Oct['Order_Date'] = sales_Oct['Order_Date'].dt.floor('S')\n",
    "sales_Sept['Order_Date'] = sales_Sept['Order_Date'].dt.floor('S')"
   ]
  },
  {
   "cell_type": "code",
   "execution_count": 137,
   "metadata": {},
   "outputs": [
    {
     "data": {
      "text/html": [
       "<div>\n",
       "<style scoped>\n",
       "    .dataframe tbody tr th:only-of-type {\n",
       "        vertical-align: middle;\n",
       "    }\n",
       "\n",
       "    .dataframe tbody tr th {\n",
       "        vertical-align: top;\n",
       "    }\n",
       "\n",
       "    .dataframe thead th {\n",
       "        text-align: right;\n",
       "    }\n",
       "</style>\n",
       "<table border=\"1\" class=\"dataframe\">\n",
       "  <thead>\n",
       "    <tr style=\"text-align: right;\">\n",
       "      <th></th>\n",
       "      <th>Order_ID</th>\n",
       "      <th>Product</th>\n",
       "      <th>Quantity_Ordered</th>\n",
       "      <th>Price_Each</th>\n",
       "      <th>Order_Date</th>\n",
       "      <th>Purchase_Address</th>\n",
       "    </tr>\n",
       "  </thead>\n",
       "  <tbody>\n",
       "    <tr>\n",
       "      <th>0</th>\n",
       "      <td>248151.00</td>\n",
       "      <td>AA Batteries (4-pack)</td>\n",
       "      <td>4.00</td>\n",
       "      <td>3.84</td>\n",
       "      <td>2017-09-19 14:44:00</td>\n",
       "      <td>380 North St, Los Angeles, CA 90001</td>\n",
       "    </tr>\n",
       "    <tr>\n",
       "      <th>1</th>\n",
       "      <td>248152.00</td>\n",
       "      <td>USB-C Charging Cable</td>\n",
       "      <td>2.00</td>\n",
       "      <td>11.95</td>\n",
       "      <td>2029-09-19 10:19:00</td>\n",
       "      <td>511 8th St, Austin, TX 73301</td>\n",
       "    </tr>\n",
       "    <tr>\n",
       "      <th>2</th>\n",
       "      <td>248153.00</td>\n",
       "      <td>USB-C Charging Cable</td>\n",
       "      <td>1.00</td>\n",
       "      <td>11.95</td>\n",
       "      <td>2016-09-19 17:48:00</td>\n",
       "      <td>151 Johnson St, Los Angeles, CA 90001</td>\n",
       "    </tr>\n",
       "    <tr>\n",
       "      <th>3</th>\n",
       "      <td>248154.00</td>\n",
       "      <td>27in FHD Monitor</td>\n",
       "      <td>1.00</td>\n",
       "      <td>149.99</td>\n",
       "      <td>2027-09-19 07:52:00</td>\n",
       "      <td>355 Hickory St, Seattle, WA 98101</td>\n",
       "    </tr>\n",
       "    <tr>\n",
       "      <th>4</th>\n",
       "      <td>248155.00</td>\n",
       "      <td>USB-C Charging Cable</td>\n",
       "      <td>1.00</td>\n",
       "      <td>11.95</td>\n",
       "      <td>2001-09-19 19:03:00</td>\n",
       "      <td>125 5th St, Atlanta, GA 30301</td>\n",
       "    </tr>\n",
       "  </tbody>\n",
       "</table>\n",
       "</div>"
      ],
      "text/plain": [
       "   Order_ID                Product  Quantity_Ordered  Price_Each  \\\n",
       "0 248151.00  AA Batteries (4-pack)              4.00        3.84   \n",
       "1 248152.00   USB-C Charging Cable              2.00       11.95   \n",
       "2 248153.00   USB-C Charging Cable              1.00       11.95   \n",
       "3 248154.00       27in FHD Monitor              1.00      149.99   \n",
       "4 248155.00   USB-C Charging Cable              1.00       11.95   \n",
       "\n",
       "           Order_Date                       Purchase_Address  \n",
       "0 2017-09-19 14:44:00    380 North St, Los Angeles, CA 90001  \n",
       "1 2029-09-19 10:19:00           511 8th St, Austin, TX 73301  \n",
       "2 2016-09-19 17:48:00  151 Johnson St, Los Angeles, CA 90001  \n",
       "3 2027-09-19 07:52:00      355 Hickory St, Seattle, WA 98101  \n",
       "4 2001-09-19 19:03:00          125 5th St, Atlanta, GA 30301  "
      ]
     },
     "execution_count": 137,
     "metadata": {},
     "output_type": "execute_result"
    }
   ],
   "source": [
    "sales_Sept.head()"
   ]
  },
  {
   "cell_type": "code",
   "execution_count": 168,
   "metadata": {},
   "outputs": [],
   "source": [
    "# Remove leading/trailing spaces from column names for all DataFrames\n",
    "dataframes = [sales_Aug, sales_Dec, sales_Jul, sales_Nov, sales_Oct, sales_Sept]\n",
    "for df in dataframes:\n",
    "    df.columns = df.columns.str.strip()\n",
    "\n",
    "def fill_missing_object_columns(df):\n",
    "    # Iterate through each column in the DataFrame\n",
    "    for col in df.columns:\n",
    "        # Check if the column data type is object\n",
    "        if df[col].dtype == 'object':\n",
    "            # Fill missing values with NaN\n",
    "            df[col] = df[col].fillna(np.nan)\n",
    "    return df\n",
    "\n",
    "# Apply the function to each DataFrame\n",
    "sales_Aug = fill_missing_object_columns(sales_Aug)\n",
    "sales_Dec = fill_missing_object_columns(sales_Dec)\n",
    "sales_Jul = fill_missing_object_columns(sales_Jul)\n",
    "sales_Nov = fill_missing_object_columns(sales_Nov)\n",
    "sales_Oct = fill_missing_object_columns(sales_Oct)\n",
    "sales_Sept = fill_missing_object_columns(sales_Sept)"
   ]
  },
  {
   "cell_type": "code",
   "execution_count": 169,
   "metadata": {},
   "outputs": [
    {
     "name": "stdout",
     "output_type": "stream",
     "text": [
      "<class 'pandas.core.frame.DataFrame'>\n",
      "RangeIndex: 11686 entries, 0 to 11685\n",
      "Data columns (total 6 columns):\n",
      " #   Column            Non-Null Count  Dtype         \n",
      "---  ------            --------------  -----         \n",
      " 0   Order_ID          11629 non-null  float64       \n",
      " 1   Product           11646 non-null  object        \n",
      " 2   Quantity_Ordered  11629 non-null  float64       \n",
      " 3   Price_Each        11629 non-null  float64       \n",
      " 4   Order_Date        11629 non-null  datetime64[ns]\n",
      " 5   Purchase_Address  11646 non-null  object        \n",
      "dtypes: datetime64[ns](1), float64(3), object(2)\n",
      "memory usage: 547.9+ KB\n"
     ]
    }
   ],
   "source": [
    "sales_Sept.info()"
   ]
  },
  {
   "cell_type": "code",
   "execution_count": 170,
   "metadata": {},
   "outputs": [],
   "source": [
    "def fill_missing_float_columns(df):\n",
    "    # Iterate through each column in the DataFrame\n",
    "    for col in df.columns:\n",
    "        # Check if the column data type is float\n",
    "        if df[col].dtype == 'float':\n",
    "            # Fill missing values with NaN\n",
    "            df[col] = df[col].fillna(np.nan)\n",
    "    return df\n",
    "\n",
    "# Apply the function to each DataFrame\n",
    "sales_Aug = fill_missing_float_columns(sales_Aug)\n",
    "sales_Dec = fill_missing_float_columns(sales_Dec)\n",
    "sales_Jul = fill_missing_float_columns(sales_Jul)\n",
    "sales_Nov = fill_missing_float_columns(sales_Nov)\n",
    "sales_Oct = fill_missing_float_columns(sales_Oct)\n",
    "sales_Sept = fill_missing_float_columns(sales_Sept)"
   ]
  },
  {
   "cell_type": "code",
   "execution_count": 171,
   "metadata": {},
   "outputs": [
    {
     "name": "stdout",
     "output_type": "stream",
     "text": [
      "<class 'pandas.core.frame.DataFrame'>\n",
      "RangeIndex: 17661 entries, 0 to 17660\n",
      "Data columns (total 6 columns):\n",
      " #   Column            Non-Null Count  Dtype         \n",
      "---  ------            --------------  -----         \n",
      " 0   Order_ID          17580 non-null  float64       \n",
      " 1   Product           17616 non-null  object        \n",
      " 2   Quantity_Ordered  17580 non-null  float64       \n",
      " 3   Price_Each        17580 non-null  float64       \n",
      " 4   Order_Date        17580 non-null  datetime64[ns]\n",
      " 5   Purchase_Address  17616 non-null  object        \n",
      "dtypes: datetime64[ns](1), float64(3), object(2)\n",
      "memory usage: 828.0+ KB\n"
     ]
    }
   ],
   "source": [
    "sales_Nov.info()"
   ]
  },
  {
   "cell_type": "markdown",
   "metadata": {},
   "source": [
    "## Loading First 6 months of the data can be found in this OneDrive"
   ]
  },
  {
   "cell_type": "code",
   "execution_count": 138,
   "metadata": {},
   "outputs": [],
   "source": [
    "data7 = pd.read_excel('C:\\\\Users\\\\KEMUNTO\\\\Downloads\\\\Sales_April_2019.xlsx')\n",
    "data8 = pd.read_excel('C:\\\\Users\\\\KEMUNTO\\\\Downloads\\\\Sales_February_2019.xlsx')\n",
    "data9 = pd.read_excel('C:\\\\Users\\\\KEMUNTO\\\\Downloads\\\\Sales_January_2019.xlsx')\n",
    "data10 = pd.read_excel('C:\\\\Users\\\\KEMUNTO\\\\Downloads\\\\Sales_June_2019.xlsx')\n",
    "data11 = pd.read_excel('C:\\\\Users\\\\KEMUNTO\\\\Downloads\\\\Sales_March_2019.xlsx')\n",
    "data12 = pd.read_excel('C:\\\\Users\\\\KEMUNTO\\\\Downloads\\\\Sales_May_2019.xlsx')"
   ]
  },
  {
   "cell_type": "code",
   "execution_count": 139,
   "metadata": {},
   "outputs": [
    {
     "name": "stdout",
     "output_type": "stream",
     "text": [
      "<class 'pandas.core.frame.DataFrame'>\n",
      "RangeIndex: 13622 entries, 0 to 13621\n",
      "Data columns (total 6 columns):\n",
      " #   Column            Non-Null Count  Dtype \n",
      "---  ------            --------------  ----- \n",
      " 0   Order ID          13579 non-null  object\n",
      " 1   Product           13579 non-null  object\n",
      " 2   Quantity Ordered  13579 non-null  object\n",
      " 3   Price Each        13579 non-null  object\n",
      " 4   Order Date        13579 non-null  object\n",
      " 5   Purchase Address  13579 non-null  object\n",
      "dtypes: object(6)\n",
      "memory usage: 638.7+ KB\n"
     ]
    }
   ],
   "source": [
    "data10.info()"
   ]
  },
  {
   "cell_type": "code",
   "execution_count": 140,
   "metadata": {},
   "outputs": [
    {
     "data": {
      "text/html": [
       "<div>\n",
       "<style scoped>\n",
       "    .dataframe tbody tr th:only-of-type {\n",
       "        vertical-align: middle;\n",
       "    }\n",
       "\n",
       "    .dataframe tbody tr th {\n",
       "        vertical-align: top;\n",
       "    }\n",
       "\n",
       "    .dataframe thead th {\n",
       "        text-align: right;\n",
       "    }\n",
       "</style>\n",
       "<table border=\"1\" class=\"dataframe\">\n",
       "  <thead>\n",
       "    <tr style=\"text-align: right;\">\n",
       "      <th></th>\n",
       "      <th>Order ID</th>\n",
       "      <th>Product</th>\n",
       "      <th>Quantity Ordered</th>\n",
       "      <th>Price Each</th>\n",
       "      <th>Order Date</th>\n",
       "      <th>Purchase Address</th>\n",
       "    </tr>\n",
       "  </thead>\n",
       "  <tbody>\n",
       "    <tr>\n",
       "      <th>0</th>\n",
       "      <td>209921</td>\n",
       "      <td>USB-C Charging Cable</td>\n",
       "      <td>1</td>\n",
       "      <td>11.95</td>\n",
       "      <td>2019-06-23 19:34:00</td>\n",
       "      <td>950 Walnut St, Portland, ME 04101</td>\n",
       "    </tr>\n",
       "    <tr>\n",
       "      <th>1</th>\n",
       "      <td>209922</td>\n",
       "      <td>Macbook Pro Laptop</td>\n",
       "      <td>1</td>\n",
       "      <td>1700</td>\n",
       "      <td>2019-06-30 10:05:00</td>\n",
       "      <td>80 4th St, San Francisco, CA 94016</td>\n",
       "    </tr>\n",
       "    <tr>\n",
       "      <th>2</th>\n",
       "      <td>209923</td>\n",
       "      <td>ThinkPad Laptop</td>\n",
       "      <td>1</td>\n",
       "      <td>999.99</td>\n",
       "      <td>2019-06-24 20:18:00</td>\n",
       "      <td>402 Jackson St, Los Angeles, CA 90001</td>\n",
       "    </tr>\n",
       "    <tr>\n",
       "      <th>3</th>\n",
       "      <td>209924</td>\n",
       "      <td>27in FHD Monitor</td>\n",
       "      <td>1</td>\n",
       "      <td>149.99</td>\n",
       "      <td>2019-06-05 10:21:00</td>\n",
       "      <td>560 10th St, Seattle, WA 98101</td>\n",
       "    </tr>\n",
       "    <tr>\n",
       "      <th>4</th>\n",
       "      <td>209925</td>\n",
       "      <td>Bose SoundSport Headphones</td>\n",
       "      <td>1</td>\n",
       "      <td>99.99</td>\n",
       "      <td>2019-06-25 18:58:00</td>\n",
       "      <td>545 2nd St, San Francisco, CA 94016</td>\n",
       "    </tr>\n",
       "  </tbody>\n",
       "</table>\n",
       "</div>"
      ],
      "text/plain": [
       "  Order ID                     Product Quantity Ordered Price Each  \\\n",
       "0   209921        USB-C Charging Cable                1      11.95   \n",
       "1   209922          Macbook Pro Laptop                1       1700   \n",
       "2   209923             ThinkPad Laptop                1     999.99   \n",
       "3   209924            27in FHD Monitor                1     149.99   \n",
       "4   209925  Bose SoundSport Headphones                1      99.99   \n",
       "\n",
       "            Order Date                       Purchase Address  \n",
       "0  2019-06-23 19:34:00      950 Walnut St, Portland, ME 04101  \n",
       "1  2019-06-30 10:05:00     80 4th St, San Francisco, CA 94016  \n",
       "2  2019-06-24 20:18:00  402 Jackson St, Los Angeles, CA 90001  \n",
       "3  2019-06-05 10:21:00         560 10th St, Seattle, WA 98101  \n",
       "4  2019-06-25 18:58:00    545 2nd St, San Francisco, CA 94016  "
      ]
     },
     "execution_count": 140,
     "metadata": {},
     "output_type": "execute_result"
    }
   ],
   "source": [
    "data10.head()"
   ]
  },
  {
   "cell_type": "code",
   "execution_count": 141,
   "metadata": {},
   "outputs": [],
   "source": [
    "# save tables to csv\n",
    "data7.to_csv('data\\Sales_April_2019.csv', index=False)\n",
    "data8.to_csv('data\\Sales_February_2019.csv', index=False)\n",
    "data9.to_csv('data\\Sales_January_2019.csv', index=False)\n",
    "data10.to_csv('data\\Sales_June_2019.csv', index=False)\n",
    "data11.to_csv('data\\Sales_March_2019.csv', index=False)\n",
    "data12.to_csv('data\\Sales_May_2019.csv', index=False)"
   ]
  },
  {
   "cell_type": "code",
   "execution_count": 142,
   "metadata": {},
   "outputs": [],
   "source": [
    "# Read CSV and change date column from object to date type\n",
    "sales_Apr = pd.read_csv(\"data\\Sales_April_2019.csv\", parse_dates =['Order Date'])\n",
    "sales_Feb = pd.read_csv(\"data\\Sales_February_2019.csv\", parse_dates =['Order Date'])\n",
    "sales_Jan = pd.read_csv(\"data\\Sales_January_2019.csv\",parse_dates=['Order Date'])\n",
    "sales_Jun = pd.read_csv(\"data\\Sales_June_2019.csv\",parse_dates=['Order Date'])\n",
    "sales_Mar = pd.read_csv(\"data\\Sales_March_2019.csv\",parse_dates=['Order Date'])\n",
    "sales_May = pd.read_csv(\"data\\Sales_May_2019.csv\",parse_dates=['Order Date'])"
   ]
  },
  {
   "cell_type": "code",
   "execution_count": 143,
   "metadata": {},
   "outputs": [],
   "source": [
    "# Function to safely parse the dates and remove microseconds\n",
    "def safe_to_datetime(df, column_name):\n",
    "    df['Order Date'] = pd.to_datetime(df['Order Date'], format='mixed', errors='coerce')\n",
    "    df['Order Date'] = df['Order Date'].dt.floor('S')\n",
    "    return df\n",
    "\n",
    "# Apply the function to each DataFrame\n",
    "sales_Apr = safe_to_datetime(sales_Apr, 'Order Date')\n",
    "sales_Feb = safe_to_datetime(sales_Feb, 'Order Date')\n",
    "sales_Jan = safe_to_datetime(sales_Jan, 'Order Date')\n",
    "sales_Jun = safe_to_datetime(sales_Jun, 'Order Date')\n",
    "sales_Mar = safe_to_datetime(sales_Mar, 'Order Date')\n",
    "sales_May = safe_to_datetime(sales_May, 'Order Date')"
   ]
  },
  {
   "cell_type": "code",
   "execution_count": 144,
   "metadata": {},
   "outputs": [
    {
     "name": "stdout",
     "output_type": "stream",
     "text": [
      "<class 'pandas.core.frame.DataFrame'>\n",
      "RangeIndex: 15226 entries, 0 to 15225\n",
      "Data columns (total 6 columns):\n",
      " #   Column            Non-Null Count  Dtype         \n",
      "---  ------            --------------  -----         \n",
      " 0   Order ID          15189 non-null  object        \n",
      " 1   Product           15189 non-null  object        \n",
      " 2   Quantity Ordered  15189 non-null  object        \n",
      " 3   Price Each        15189 non-null  object        \n",
      " 4   Order Date        15154 non-null  datetime64[ns]\n",
      " 5   Purchase Address  15189 non-null  object        \n",
      "dtypes: datetime64[ns](1), object(5)\n",
      "memory usage: 713.8+ KB\n"
     ]
    }
   ],
   "source": [
    "sales_Mar.info()"
   ]
  },
  {
   "cell_type": "code",
   "execution_count": 145,
   "metadata": {},
   "outputs": [
    {
     "data": {
      "text/html": [
       "<div>\n",
       "<style scoped>\n",
       "    .dataframe tbody tr th:only-of-type {\n",
       "        vertical-align: middle;\n",
       "    }\n",
       "\n",
       "    .dataframe tbody tr th {\n",
       "        vertical-align: top;\n",
       "    }\n",
       "\n",
       "    .dataframe thead th {\n",
       "        text-align: right;\n",
       "    }\n",
       "</style>\n",
       "<table border=\"1\" class=\"dataframe\">\n",
       "  <thead>\n",
       "    <tr style=\"text-align: right;\">\n",
       "      <th></th>\n",
       "      <th>Order ID</th>\n",
       "      <th>Product</th>\n",
       "      <th>Quantity Ordered</th>\n",
       "      <th>Price Each</th>\n",
       "      <th>Order Date</th>\n",
       "      <th>Purchase Address</th>\n",
       "    </tr>\n",
       "  </thead>\n",
       "  <tbody>\n",
       "    <tr>\n",
       "      <th>0</th>\n",
       "      <td>162009</td>\n",
       "      <td>iPhone</td>\n",
       "      <td>1</td>\n",
       "      <td>700</td>\n",
       "      <td>2019-03-28 20:59:00</td>\n",
       "      <td>942 Church St, Austin, TX 73301</td>\n",
       "    </tr>\n",
       "    <tr>\n",
       "      <th>1</th>\n",
       "      <td>162009</td>\n",
       "      <td>Lightning Charging Cable</td>\n",
       "      <td>1</td>\n",
       "      <td>14.95</td>\n",
       "      <td>2019-03-28 20:59:00</td>\n",
       "      <td>942 Church St, Austin, TX 73301</td>\n",
       "    </tr>\n",
       "    <tr>\n",
       "      <th>2</th>\n",
       "      <td>162009</td>\n",
       "      <td>Wired Headphones</td>\n",
       "      <td>2</td>\n",
       "      <td>11.99</td>\n",
       "      <td>2019-03-28 20:59:00</td>\n",
       "      <td>942 Church St, Austin, TX 73301</td>\n",
       "    </tr>\n",
       "    <tr>\n",
       "      <th>3</th>\n",
       "      <td>162010</td>\n",
       "      <td>Bose SoundSport Headphones</td>\n",
       "      <td>1</td>\n",
       "      <td>99.99</td>\n",
       "      <td>2019-03-17 05:39:00</td>\n",
       "      <td>261 10th St, San Francisco, CA 94016</td>\n",
       "    </tr>\n",
       "    <tr>\n",
       "      <th>4</th>\n",
       "      <td>162011</td>\n",
       "      <td>34in Ultrawide Monitor</td>\n",
       "      <td>1</td>\n",
       "      <td>379.99</td>\n",
       "      <td>2019-03-10 00:01:00</td>\n",
       "      <td>764 13th St, San Francisco, CA 94016</td>\n",
       "    </tr>\n",
       "  </tbody>\n",
       "</table>\n",
       "</div>"
      ],
      "text/plain": [
       "  Order ID                     Product Quantity Ordered Price Each  \\\n",
       "0   162009                      iPhone                1        700   \n",
       "1   162009    Lightning Charging Cable                1      14.95   \n",
       "2   162009            Wired Headphones                2      11.99   \n",
       "3   162010  Bose SoundSport Headphones                1      99.99   \n",
       "4   162011      34in Ultrawide Monitor                1     379.99   \n",
       "\n",
       "           Order Date                      Purchase Address  \n",
       "0 2019-03-28 20:59:00       942 Church St, Austin, TX 73301  \n",
       "1 2019-03-28 20:59:00       942 Church St, Austin, TX 73301  \n",
       "2 2019-03-28 20:59:00       942 Church St, Austin, TX 73301  \n",
       "3 2019-03-17 05:39:00  261 10th St, San Francisco, CA 94016  \n",
       "4 2019-03-10 00:01:00  764 13th St, San Francisco, CA 94016  "
      ]
     },
     "execution_count": 145,
     "metadata": {},
     "output_type": "execute_result"
    }
   ],
   "source": [
    "sales_Mar.head()"
   ]
  },
  {
   "cell_type": "markdown",
   "metadata": {},
   "source": [
    "# Data Cleaning"
   ]
  },
  {
   "cell_type": "code",
   "execution_count": 163,
   "metadata": {},
   "outputs": [],
   "source": [
    "# Remove leading/trailing spaces from column names for all DataFrames\n",
    "dataframes = [sales_Apr, sales_Feb, sales_Jan, sales_Jun, sales_Mar, sales_May]\n",
    "for df in dataframes:\n",
    "    df.columns = df.columns.str.strip()\n",
    "\n",
    "# Function to clean and convert columns\n",
    "def clean_and_convert(df, columns):\n",
    "    for column in columns:\n",
    "        # Remove leading/trailing spaces from the values (only if they are strings)\n",
    "        if df[column].dtype == 'object':\n",
    "            df[column] = df[column].str.strip()\n",
    "        \n",
    "        # Replace non-numeric values with NaN and convert to float\n",
    "        df[column] = pd.to_numeric(df[column], errors='coerce')\n",
    "    \n",
    "    return df\n",
    "\n",
    "# Columns to clean and convert\n",
    "columns_to_convert = ['Order ID', 'Quantity Ordered', 'Price Each']\n",
    "\n",
    "# Clean and convert the columns for each DataFrame\n",
    "sales_Apr = clean_and_convert(sales_Apr, columns_to_convert)\n",
    "sales_Feb = clean_and_convert(sales_Feb, columns_to_convert)\n",
    "sales_Jan = clean_and_convert(sales_Jan, columns_to_convert)\n",
    "sales_Jun = clean_and_convert(sales_Jun, columns_to_convert)\n",
    "sales_Mar = clean_and_convert(sales_Mar, columns_to_convert)\n",
    "sales_May = clean_and_convert(sales_May, columns_to_convert)\n",
    "\n"
   ]
  },
  {
   "cell_type": "code",
   "execution_count": 164,
   "metadata": {},
   "outputs": [
    {
     "data": {
      "text/html": [
       "<div>\n",
       "<style scoped>\n",
       "    .dataframe tbody tr th:only-of-type {\n",
       "        vertical-align: middle;\n",
       "    }\n",
       "\n",
       "    .dataframe tbody tr th {\n",
       "        vertical-align: top;\n",
       "    }\n",
       "\n",
       "    .dataframe thead th {\n",
       "        text-align: right;\n",
       "    }\n",
       "</style>\n",
       "<table border=\"1\" class=\"dataframe\">\n",
       "  <thead>\n",
       "    <tr style=\"text-align: right;\">\n",
       "      <th></th>\n",
       "      <th>Order ID</th>\n",
       "      <th>Product</th>\n",
       "      <th>Quantity Ordered</th>\n",
       "      <th>Price Each</th>\n",
       "      <th>Order Date</th>\n",
       "      <th>Purchase Address</th>\n",
       "    </tr>\n",
       "  </thead>\n",
       "  <tbody>\n",
       "    <tr>\n",
       "      <th>0</th>\n",
       "      <td>194095.00</td>\n",
       "      <td>Wired Headphones</td>\n",
       "      <td>1.00</td>\n",
       "      <td>11.99</td>\n",
       "      <td>2019-05-16 17:14:00</td>\n",
       "      <td>669 2nd St, New York City, NY 10001</td>\n",
       "    </tr>\n",
       "    <tr>\n",
       "      <th>1</th>\n",
       "      <td>194096.00</td>\n",
       "      <td>AA Batteries (4-pack)</td>\n",
       "      <td>1.00</td>\n",
       "      <td>3.84</td>\n",
       "      <td>2019-05-19 14:43:00</td>\n",
       "      <td>844 Walnut St, Dallas, TX 75001</td>\n",
       "    </tr>\n",
       "    <tr>\n",
       "      <th>2</th>\n",
       "      <td>194097.00</td>\n",
       "      <td>27in FHD Monitor</td>\n",
       "      <td>1.00</td>\n",
       "      <td>149.99</td>\n",
       "      <td>2019-05-24 11:36:00</td>\n",
       "      <td>164 Madison St, New York City, NY 10001</td>\n",
       "    </tr>\n",
       "    <tr>\n",
       "      <th>3</th>\n",
       "      <td>194098.00</td>\n",
       "      <td>Wired Headphones</td>\n",
       "      <td>1.00</td>\n",
       "      <td>11.99</td>\n",
       "      <td>2019-05-02 20:40:00</td>\n",
       "      <td>622 Meadow St, Dallas, TX 75001</td>\n",
       "    </tr>\n",
       "    <tr>\n",
       "      <th>4</th>\n",
       "      <td>194099.00</td>\n",
       "      <td>AAA Batteries (4-pack)</td>\n",
       "      <td>2.00</td>\n",
       "      <td>2.99</td>\n",
       "      <td>2019-05-11 22:55:00</td>\n",
       "      <td>17 Church St, Seattle, WA 98101</td>\n",
       "    </tr>\n",
       "  </tbody>\n",
       "</table>\n",
       "</div>"
      ],
      "text/plain": [
       "   Order ID                 Product  Quantity Ordered  Price Each  \\\n",
       "0 194095.00        Wired Headphones              1.00       11.99   \n",
       "1 194096.00   AA Batteries (4-pack)              1.00        3.84   \n",
       "2 194097.00        27in FHD Monitor              1.00      149.99   \n",
       "3 194098.00        Wired Headphones              1.00       11.99   \n",
       "4 194099.00  AAA Batteries (4-pack)              2.00        2.99   \n",
       "\n",
       "           Order Date                         Purchase Address  \n",
       "0 2019-05-16 17:14:00      669 2nd St, New York City, NY 10001  \n",
       "1 2019-05-19 14:43:00          844 Walnut St, Dallas, TX 75001  \n",
       "2 2019-05-24 11:36:00  164 Madison St, New York City, NY 10001  \n",
       "3 2019-05-02 20:40:00          622 Meadow St, Dallas, TX 75001  \n",
       "4 2019-05-11 22:55:00          17 Church St, Seattle, WA 98101  "
      ]
     },
     "execution_count": 164,
     "metadata": {},
     "output_type": "execute_result"
    }
   ],
   "source": [
    "sales_May.head()"
   ]
  },
  {
   "cell_type": "code",
   "execution_count": 165,
   "metadata": {},
   "outputs": [],
   "source": [
    "# Define the renaming dictionary\n",
    "rename_dict = {\n",
    "    'Order ID': 'Order_ID',\n",
    "    'Quantity Ordered': 'Quantity_Ordered',\n",
    "    'Price Each':'Price_Each',\n",
    "    'Order Date':'Order_Date',\n",
    "    'Purchase Address':'Purchase_Address',\n",
    "}\n",
    "\n",
    "# List of DataFrames\n",
    "dataframes = [sales_Apr, sales_Feb, sales_Jan, sales_Jun, sales_Mar, sales_May]\n",
    "\n",
    "# Rename columns in each DataFrame\n",
    "for df in dataframes:\n",
    "    df.rename(columns=rename_dict, inplace=True)\n"
   ]
  },
  {
   "cell_type": "code",
   "execution_count": 167,
   "metadata": {},
   "outputs": [
    {
     "name": "stdout",
     "output_type": "stream",
     "text": [
      "<class 'pandas.core.frame.DataFrame'>\n",
      "RangeIndex: 16635 entries, 0 to 16634\n",
      "Data columns (total 6 columns):\n",
      " #   Column            Non-Null Count  Dtype         \n",
      "---  ------            --------------  -----         \n",
      " 0   Order_ID          16554 non-null  float64       \n",
      " 1   Product           16587 non-null  object        \n",
      " 2   Quantity_Ordered  16554 non-null  float64       \n",
      " 3   Price_Each        16554 non-null  float64       \n",
      " 4   Order_Date        16554 non-null  datetime64[ns]\n",
      " 5   Purchase_Address  16587 non-null  object        \n",
      "dtypes: datetime64[ns](1), float64(3), object(2)\n",
      "memory usage: 779.9+ KB\n"
     ]
    }
   ],
   "source": [
    "#checking the dataframe\n",
    "sales_May.info()"
   ]
  },
  {
   "cell_type": "code",
   "execution_count": 172,
   "metadata": {},
   "outputs": [],
   "source": [
    "def fill_missing_float_columns(df):\n",
    "    # Iterate through each column in the DataFrame\n",
    "    for col in df.columns:\n",
    "        # Check if the column data type is float\n",
    "        if df[col].dtype == 'float':\n",
    "            # Fill missing values with NaN\n",
    "            df[col] = df[col].fillna(np.nan)\n",
    "    return df\n",
    "\n",
    "# Apply the function to each DataFrame\n",
    "sales_Apr = fill_missing_float_columns(sales_Apr)\n",
    "sales_Feb = fill_missing_float_columns(sales_Feb)\n",
    "sales_Jan = fill_missing_float_columns(sales_Jan)\n",
    "sales_Jun = fill_missing_float_columns(sales_Jun)\n",
    "sales_Mar = fill_missing_float_columns(sales_Mar)\n",
    "sales_May = fill_missing_float_columns(sales_May)\n"
   ]
  },
  {
   "cell_type": "code",
   "execution_count": null,
   "metadata": {},
   "outputs": [],
   "source": []
  }
 ],
 "metadata": {
  "kernelspec": {
   "display_name": "venv",
   "language": "python",
   "name": "python3"
  },
  "language_info": {
   "codemirror_mode": {
    "name": "ipython",
    "version": 3
   },
   "file_extension": ".py",
   "mimetype": "text/x-python",
   "name": "python",
   "nbconvert_exporter": "python",
   "pygments_lexer": "ipython3",
   "version": "3.11.5"
  }
 },
 "nbformat": 4,
 "nbformat_minor": 2
}
