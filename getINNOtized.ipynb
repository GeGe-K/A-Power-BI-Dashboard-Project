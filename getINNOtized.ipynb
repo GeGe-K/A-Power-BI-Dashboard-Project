{
 "cells": [
  {
   "cell_type": "markdown",
   "metadata": {},
   "source": [
    "# Business Intelligence Solution Project"
   ]
  },
  {
   "cell_type": "markdown",
   "metadata": {},
   "source": [
    "## Business Understanding"
   ]
  },
  {
   "cell_type": "markdown",
   "metadata": {},
   "source": [
    "### `Project Description`\n",
    "Imagine being at the helm of a business with a treasure trove of transactional data, brimming with untapped potential, yet unable to harness its power. That's where our client finds themselves—a company sitting on a goldmine of 2019 transactional data, eager to uncover insights that could propel their business to new heights. They've turned to us, seeking a transformative business intelligence solution that not only answers their pressing questions but also illuminates hidden opportunities to boost sales and streamline operations.\n",
    "\n",
    "Enter getINNOtized, a dynamic organization dedicated to connecting talented data professionals with businesses in need of innovative data solutions. Through their platform, companies can leverage top-tier analytical expertise to unlock the full potential of their data. getINNOtized has assigned us this mission, confident in our ability to deliver a comprehensive, actionable business intelligence report that will empower the client to make informed, strategic decisions. Our task is clear: dive deep into this data, decode its secrets, and deliver insights that guide the client towards increased revenue and enhanced efficiency."
   ]
  },
  {
   "cell_type": "markdown",
   "metadata": {},
   "source": [
    "#### **Key Stakeholders**\n",
    "The stakeholders include the client's company executives, sales and marketing team, product management team, logistics and supply chain team, IT and data team, getINNOtized and external stakeholders(investors and suppliers)\n",
    "\n",
    "#### **Success Criteria**\n",
    "\n",
    "The success of this project will be measured by the ability to deliver a detailed and actionable business intelligence report that answers the client's questions and provides insights for driving sales and efficiency. The report should be clear, visually appealing, and easy to understand, providing the client with a solid foundation for making data-driven decisions.\n",
    "\n",
    "#### **Constraints and Considerations**\n",
    "\n",
    "- Data Quality: Ensure the data is clean, accurate, and complete before analysis.\n",
    "- Timeliness: The analysis and report should be delivered within the agreed-upon timeframe.\n",
    "- Client Collaboration: Regular communication with the client to understand their needs and provide updates on progress.\n",
    "- Tool Selection: Utilize appropriate data analysis and visualization tools to generate insights and present findings effectively.\n",
    "\n",
    "#### **Data Requirements**\n",
    "- Utilize data that was collected for each month in the entire year of 2019. The data for the first half of the year (January to June) was collected in excel and saved as csv files before management decided to use databases to store their data for analysis.\n",
    "\n",
    "**<i>NB</i>** Additionally, categorize products based on their unit prices:\n",
    "- Products with unit prices above $99.99 should be labeled as high-level products.\n",
    "- Products with unit prices $99.99 and below should be labeled as basic-level products.\n",
    "\n",
    "#### **Business Impact**\n",
    "- Enhance customer satisfaction through better product availability.\n",
    "- Optimize inventory management, leading to cost savings and improved operational efficiency.\n",
    "\n",
    "### `Hypothesis`\n",
    "\n",
    "*Null Hypothesis (Ho):* \n",
    "\n",
    "*Alternate Hypothesis (Ha):* \n",
    "\n",
    "### `Analytical Business Questions`\n",
    "\n",
    "1. How much money did we make this year?\n",
    "2. Can we identify any seasonality in the  sales?\n",
    "3. What are our best and worst-selling products?\n",
    "4. How do sales compare to previous months or weeks? \n",
    "5. Which cities are our products delivered to most? \n",
    "6. How do product categories compare in revenue generated and quantities  ordered?\n",
    "7. You are required to show additional details from your findings in your data."
   ]
  },
  {
   "cell_type": "markdown",
   "metadata": {},
   "source": [
    "## Data Understanding"
   ]
  },
  {
   "cell_type": "markdown",
   "metadata": {},
   "source": [
    "### `File Descriptions and Data Field Information`"
   ]
  },
  {
   "cell_type": "markdown",
   "metadata": {},
   "source": [
    "|  Header  | Description        |\n",
    "|:--------|:-------------|\n",
    "| Order_ID   | Order ID number.    |\n",
    "| Product    | Name of the product.  |\n",
    "| Quantity_Ordered | How much was ordered per product     |\n",
    "| Price_Each |  Price of each product.   |\n",
    "| Order_Date   | The date the order was made.      |\n",
    "| Purchase_Address | Address where the purchase was made.|"
   ]
  },
  {
   "cell_type": "markdown",
   "metadata": {},
   "source": [
    "### `Importations`"
   ]
  },
  {
   "cell_type": "code",
   "execution_count": 4,
   "metadata": {},
   "outputs": [
    {
     "name": "stdout",
     "output_type": "stream",
     "text": [
      "PACKAGE SUCCESS!! 🎉\n"
     ]
    }
   ],
   "source": [
    "# Import the necessary libraries\n",
    "\n",
    "# Data Connection\n",
    "import pyodbc\n",
    "from dotenv import dotenv_values\n",
    "\n",
    "# Data Manipulation\n",
    "import numpy as np\n",
    "import pandas as pd\n",
    "\n",
    "# Data Visualization\n",
    "import matplotlib.pyplot as plt\n",
    "import seaborn as sns\n",
    "\n",
    "# Stats Packages\n",
    "from scipy.stats import stats\n",
    "\n",
    "\n",
    "# Others\n",
    "from datetime import datetime\n",
    "import os\n",
    "from itertools import product\n",
    "pd.options.display.float_format = '{:.2f}'.format\n",
    "import warnings\n",
    "warnings.filterwarnings('ignore')\n",
    "\n",
    "print(\"PACKAGE SUCCESS!! 🎉\")\n"
   ]
  },
  {
   "cell_type": "markdown",
   "metadata": {},
   "source": [
    "### `Data Connection`"
   ]
  },
  {
   "cell_type": "code",
   "execution_count": 5,
   "metadata": {},
   "outputs": [],
   "source": [
    "# Load environment variables from .env file into a dictionary\n",
    "environment_variables=dotenv_values('.env')\n",
    "\n",
    "# Get the values for the credentials you set in the '.env' file\n",
    "server = environment_variables.get(\"server_name\")\n",
    "database = environment_variables.get(\"database_name\")\n",
    "username = environment_variables.get(\"user\")\n",
    "password = environment_variables.get(\"password\")\n",
    "\n",
    "connection_string=f\"DRIVER={{SQL Server}};SERVER={server};DATABASE={database};UID={username};PWD={password}\"\n",
    "\n",
    "# Use the connect method of the pyodbc library and pass in the connection string.\n",
    "connection = pyodbc.connect(connection_string)"
   ]
  },
  {
   "cell_type": "code",
   "execution_count": 6,
   "metadata": {},
   "outputs": [
    {
     "name": "stdout",
     "output_type": "stream",
     "text": [
      "Sales_August_2019\n",
      "Sales_December_2019\n",
      "Sales_July_2019\n",
      "Sales_November_2019\n",
      "Sales_October_2019\n",
      "Sales_September_2019\n",
      "change_streams_destination_type\n",
      "change_streams_partition_scheme\n",
      "trace_xe_action_map\n",
      "trace_xe_event_map\n"
     ]
    }
   ],
   "source": [
    "# Get the cursor\n",
    "# The connection cursor is used to execute statements to communicate with the MySQL database\n",
    "cursor = connection.cursor()\n",
    "# Retrieve the table names\n",
    "table_names = cursor.tables(tableType='TABLE')\n",
    "# Fetch all the table names\n",
    "tables = table_names.fetchall()\n",
    "# Print the table names\n",
    "for table in tables:\n",
    "    print(table.table_name)"
   ]
  },
  {
   "cell_type": "code",
   "execution_count": 7,
   "metadata": {},
   "outputs": [],
   "source": [
    "# sql query to get the datasets\n",
    "query = \"SELECT * FROM Sales_August_2019\"\n",
    "query2 = \"SELECT * FROM Sales_December_2019\"\n",
    "query3 = \"SELECT * FROM Sales_July_2019\"\n",
    "query4 = \"SELECT * FROM Sales_November_2019\"\n",
    "query5 = \"SELECT * FROM Sales_October_2019\"\n",
    "query6 = \"SELECT * FROM Sales_September_2019\"\n",
    "\n",
    "data=pd.read_sql(query,connection)\n",
    "data2=pd.read_sql(query2,connection)\n",
    "data3=pd.read_sql(query3,connection)\n",
    "data4=pd.read_sql(query4,connection)\n",
    "data5=pd.read_sql(query5,connection)\n",
    "data6=pd.read_sql(query6,connection)"
   ]
  },
  {
   "cell_type": "code",
   "execution_count": 8,
   "metadata": {},
   "outputs": [],
   "source": [
    "# save tables to csv\n",
    "data.to_csv('data\\Sales_August_2019.csv', index=False)\n",
    "data2.to_csv('data\\Sales_December_2019.csv', index=False)\n",
    "data3.to_csv('data\\Sales_July_2019.csv', index=False)\n",
    "data4.to_csv('data\\Sales_November_2019.csv', index=False)\n",
    "data5.to_csv('data\\Sales_October_2019.csv', index=False)\n",
    "data6.to_csv('data\\Sales_September_2019.csv', index=False)"
   ]
  },
  {
   "cell_type": "code",
   "execution_count": 9,
   "metadata": {},
   "outputs": [],
   "source": [
    "# Read CSV and change date column from object to date type\n",
    "sales_Aug = pd.read_csv(\"data\\Sales_August_2019.csv\", parse_dates =['Order_Date'])\n",
    "sales_Dec = pd.read_csv(\"data\\Sales_December_2019.csv\", parse_dates =['Order_Date'])\n",
    "sales_Jul = pd.read_csv(\"data\\Sales_July_2019.csv\",parse_dates=['Order_Date'])\n",
    "sales_Nov = pd.read_csv(\"data\\Sales_November_2019.csv\",parse_dates=['Order_Date'])\n",
    "sales_Oct = pd.read_csv(\"data\\Sales_October_2019.csv\",parse_dates=['Order_Date'])\n",
    "sales_Sept = pd.read_csv(\"data\\Sales_September_2019.csv\",parse_dates=['Order_Date'])"
   ]
  },
  {
   "cell_type": "code",
   "execution_count": 10,
   "metadata": {},
   "outputs": [],
   "source": [
    "# Remove microseconds by formatting the datetime without microseconds\n",
    "sales_Aug['Order_Date'] = sales_Aug['Order_Date'].dt.floor('S')\n",
    "sales_Dec['Order_Date'] = sales_Dec['Order_Date'].dt.floor('S')\n",
    "sales_Jul['Order_Date'] = sales_Jul['Order_Date'].dt.floor('S')\n",
    "sales_Nov['Order_Date'] = sales_Nov['Order_Date'].dt.floor('S')\n",
    "sales_Oct['Order_Date'] = sales_Oct['Order_Date'].dt.floor('S')\n",
    "sales_Sept['Order_Date'] = sales_Sept['Order_Date'].dt.floor('S')"
   ]
  },
  {
   "cell_type": "code",
   "execution_count": 11,
   "metadata": {},
   "outputs": [],
   "source": [
    "# Concatenate the datasets\n",
    "data_second_half = pd.concat([\n",
    "    sales_Aug,\n",
    "    sales_Dec,\n",
    "    sales_Jul,\n",
    "    sales_Nov,\n",
    "    sales_Oct,\n",
    "    sales_Sept\n",
    "], ignore_index=True)"
   ]
  },
  {
   "cell_type": "code",
   "execution_count": 12,
   "metadata": {},
   "outputs": [
    {
     "data": {
      "text/html": [
       "<div>\n",
       "<style scoped>\n",
       "    .dataframe tbody tr th:only-of-type {\n",
       "        vertical-align: middle;\n",
       "    }\n",
       "\n",
       "    .dataframe tbody tr th {\n",
       "        vertical-align: top;\n",
       "    }\n",
       "\n",
       "    .dataframe thead th {\n",
       "        text-align: right;\n",
       "    }\n",
       "</style>\n",
       "<table border=\"1\" class=\"dataframe\">\n",
       "  <thead>\n",
       "    <tr style=\"text-align: right;\">\n",
       "      <th></th>\n",
       "      <th>Order_ID</th>\n",
       "      <th>Product</th>\n",
       "      <th>Quantity_Ordered</th>\n",
       "      <th>Price_Each</th>\n",
       "      <th>Order_Date</th>\n",
       "      <th>Purchase_Address</th>\n",
       "    </tr>\n",
       "  </thead>\n",
       "  <tbody>\n",
       "    <tr>\n",
       "      <th>0</th>\n",
       "      <td>236670.00</td>\n",
       "      <td>Wired Headphones</td>\n",
       "      <td>2.00</td>\n",
       "      <td>11.99</td>\n",
       "      <td>2031-08-19 22:21:00</td>\n",
       "      <td>359 Spruce St, Seattle, WA 98101</td>\n",
       "    </tr>\n",
       "    <tr>\n",
       "      <th>1</th>\n",
       "      <td>236671.00</td>\n",
       "      <td>Bose SoundSport Headphones</td>\n",
       "      <td>1.00</td>\n",
       "      <td>99.99</td>\n",
       "      <td>2015-08-19 15:11:00</td>\n",
       "      <td>492 Ridge St, Dallas, TX 75001</td>\n",
       "    </tr>\n",
       "    <tr>\n",
       "      <th>2</th>\n",
       "      <td>236672.00</td>\n",
       "      <td>iPhone</td>\n",
       "      <td>1.00</td>\n",
       "      <td>700.00</td>\n",
       "      <td>2006-08-19 14:40:00</td>\n",
       "      <td>149 7th St, Portland, OR 97035</td>\n",
       "    </tr>\n",
       "    <tr>\n",
       "      <th>3</th>\n",
       "      <td>236673.00</td>\n",
       "      <td>AA Batteries (4-pack)</td>\n",
       "      <td>2.00</td>\n",
       "      <td>3.84</td>\n",
       "      <td>2029-08-19 20:59:00</td>\n",
       "      <td>631 2nd St, Los Angeles, CA 90001</td>\n",
       "    </tr>\n",
       "    <tr>\n",
       "      <th>4</th>\n",
       "      <td>236674.00</td>\n",
       "      <td>AA Batteries (4-pack)</td>\n",
       "      <td>2.00</td>\n",
       "      <td>3.84</td>\n",
       "      <td>2015-08-19 19:53:00</td>\n",
       "      <td>736 14th St, New York City, NY 10001</td>\n",
       "    </tr>\n",
       "  </tbody>\n",
       "</table>\n",
       "</div>"
      ],
      "text/plain": [
       "   Order_ID                     Product  Quantity_Ordered  Price_Each  \\\n",
       "0 236670.00            Wired Headphones              2.00       11.99   \n",
       "1 236671.00  Bose SoundSport Headphones              1.00       99.99   \n",
       "2 236672.00                      iPhone              1.00      700.00   \n",
       "3 236673.00       AA Batteries (4-pack)              2.00        3.84   \n",
       "4 236674.00       AA Batteries (4-pack)              2.00        3.84   \n",
       "\n",
       "           Order_Date                      Purchase_Address  \n",
       "0 2031-08-19 22:21:00      359 Spruce St, Seattle, WA 98101  \n",
       "1 2015-08-19 15:11:00        492 Ridge St, Dallas, TX 75001  \n",
       "2 2006-08-19 14:40:00        149 7th St, Portland, OR 97035  \n",
       "3 2029-08-19 20:59:00     631 2nd St, Los Angeles, CA 90001  \n",
       "4 2015-08-19 19:53:00  736 14th St, New York City, NY 10001  "
      ]
     },
     "execution_count": 12,
     "metadata": {},
     "output_type": "execute_result"
    }
   ],
   "source": [
    "data_second_half.head()"
   ]
  },
  {
   "cell_type": "code",
   "execution_count": 13,
   "metadata": {},
   "outputs": [],
   "source": [
    "# Remove leading/trailing spaces from column names for all DataFrames\n",
    "dataframes = [sales_Aug, sales_Dec, sales_Jul, sales_Nov, sales_Oct, sales_Sept]\n",
    "for df in dataframes:\n",
    "    df.columns = df.columns.str.strip()\n",
    "\n",
    "def fill_missing_object_columns(df):\n",
    "    # Iterate through each column in the DataFrame\n",
    "    for col in df.columns:\n",
    "        # Check if the column data type is object\n",
    "        if df[col].dtype == 'object':\n",
    "            # Fill missing values with NaN\n",
    "            df[col] = df[col].fillna(np.nan)\n",
    "    return df\n",
    "\n",
    "# Apply the function to each DataFrame\n",
    "sales_Aug = fill_missing_object_columns(sales_Aug)\n",
    "sales_Dec = fill_missing_object_columns(sales_Dec)\n",
    "sales_Jul = fill_missing_object_columns(sales_Jul)\n",
    "sales_Nov = fill_missing_object_columns(sales_Nov)\n",
    "sales_Oct = fill_missing_object_columns(sales_Oct)\n",
    "sales_Sept = fill_missing_object_columns(sales_Sept)"
   ]
  },
  {
   "cell_type": "markdown",
   "metadata": {},
   "source": [
    "### `Loading and concating First 6 months of the data` "
   ]
  },
  {
   "cell_type": "code",
   "execution_count": 14,
   "metadata": {},
   "outputs": [
    {
     "data": {
      "text/html": [
       "<div>\n",
       "<style scoped>\n",
       "    .dataframe tbody tr th:only-of-type {\n",
       "        vertical-align: middle;\n",
       "    }\n",
       "\n",
       "    .dataframe tbody tr th {\n",
       "        vertical-align: top;\n",
       "    }\n",
       "\n",
       "    .dataframe thead th {\n",
       "        text-align: right;\n",
       "    }\n",
       "</style>\n",
       "<table border=\"1\" class=\"dataframe\">\n",
       "  <thead>\n",
       "    <tr style=\"text-align: right;\">\n",
       "      <th></th>\n",
       "      <th>Order ID</th>\n",
       "      <th>Product</th>\n",
       "      <th>Quantity Ordered</th>\n",
       "      <th>Price Each</th>\n",
       "      <th>Order Date</th>\n",
       "      <th>Purchase Address</th>\n",
       "    </tr>\n",
       "  </thead>\n",
       "  <tbody>\n",
       "    <tr>\n",
       "      <th>0</th>\n",
       "      <td>141234</td>\n",
       "      <td>iPhone</td>\n",
       "      <td>1</td>\n",
       "      <td>700</td>\n",
       "      <td>2019-01-22 21:25:00</td>\n",
       "      <td>944 Walnut St, Boston, MA 02215</td>\n",
       "    </tr>\n",
       "    <tr>\n",
       "      <th>1</th>\n",
       "      <td>141235</td>\n",
       "      <td>Lightning Charging Cable</td>\n",
       "      <td>1</td>\n",
       "      <td>14.95</td>\n",
       "      <td>2019-01-28 14:15:00</td>\n",
       "      <td>185 Maple St, Portland, OR 97035</td>\n",
       "    </tr>\n",
       "    <tr>\n",
       "      <th>2</th>\n",
       "      <td>141236</td>\n",
       "      <td>Wired Headphones</td>\n",
       "      <td>2</td>\n",
       "      <td>11.99</td>\n",
       "      <td>2019-01-17 13:33:00</td>\n",
       "      <td>538 Adams St, San Francisco, CA 94016</td>\n",
       "    </tr>\n",
       "    <tr>\n",
       "      <th>3</th>\n",
       "      <td>141237</td>\n",
       "      <td>27in FHD Monitor</td>\n",
       "      <td>1</td>\n",
       "      <td>149.99</td>\n",
       "      <td>2019-01-05 20:33:00</td>\n",
       "      <td>738 10th St, Los Angeles, CA 90001</td>\n",
       "    </tr>\n",
       "    <tr>\n",
       "      <th>4</th>\n",
       "      <td>141238</td>\n",
       "      <td>Wired Headphones</td>\n",
       "      <td>1</td>\n",
       "      <td>11.99</td>\n",
       "      <td>2019-01-25 11:59:00</td>\n",
       "      <td>387 10th St, Austin, TX 73301</td>\n",
       "    </tr>\n",
       "  </tbody>\n",
       "</table>\n",
       "</div>"
      ],
      "text/plain": [
       "  Order ID                   Product Quantity Ordered Price Each  \\\n",
       "0   141234                    iPhone                1        700   \n",
       "1   141235  Lightning Charging Cable                1      14.95   \n",
       "2   141236          Wired Headphones                2      11.99   \n",
       "3   141237          27in FHD Monitor                1     149.99   \n",
       "4   141238          Wired Headphones                1      11.99   \n",
       "\n",
       "            Order Date                       Purchase Address  \n",
       "0  2019-01-22 21:25:00        944 Walnut St, Boston, MA 02215  \n",
       "1  2019-01-28 14:15:00       185 Maple St, Portland, OR 97035  \n",
       "2  2019-01-17 13:33:00  538 Adams St, San Francisco, CA 94016  \n",
       "3  2019-01-05 20:33:00     738 10th St, Los Angeles, CA 90001  \n",
       "4  2019-01-25 11:59:00          387 10th St, Austin, TX 73301  "
      ]
     },
     "execution_count": 14,
     "metadata": {},
     "output_type": "execute_result"
    }
   ],
   "source": [
    "\n",
    "\n",
    "# Define the path to the data directory\n",
    "data_dir = 'data'\n",
    "\n",
    "# List of months with correct file names\n",
    "files = [\n",
    "    'Sales_January_2019.csv',\n",
    "    'Sales_February_2019.csv',\n",
    "    'Sales_March_2019.csv',\n",
    "    'Sales_April_2019.csv',\n",
    "    'Sales_May_2019.csv',\n",
    "    'Sales_June_2019.csv'\n",
    "]\n",
    "\n",
    "# Initialize a list to hold the DataFrames\n",
    "dfs = []\n",
    "\n",
    "# Loop through each file, read the corresponding CSV file, and append to the list\n",
    "for file_name in files:\n",
    "    file_path = os.path.join(data_dir, file_name)\n",
    "    df = pd.read_csv(file_path)\n",
    "    dfs.append(df)\n",
    "\n",
    "# Concatenate all DataFrames into a single DataFrame\n",
    "data_first_half = pd.concat(dfs, ignore_index=True)\n",
    "\n",
    "# Optional: Check the first few rows of the concatenated DataFrame\n",
    "data_first_half.head()\n"
   ]
  },
  {
   "cell_type": "code",
   "execution_count": 15,
   "metadata": {},
   "outputs": [
    {
     "name": "stdout",
     "output_type": "stream",
     "text": [
      "<class 'pandas.core.frame.DataFrame'>\n",
      "RangeIndex: 85625 entries, 0 to 85624\n",
      "Data columns (total 6 columns):\n",
      " #   Column            Non-Null Count  Dtype \n",
      "---  ------            --------------  ----- \n",
      " 0   Order ID          85380 non-null  object\n",
      " 1   Product           85380 non-null  object\n",
      " 2   Quantity Ordered  85380 non-null  object\n",
      " 3   Price Each        85380 non-null  object\n",
      " 4   Order Date        85380 non-null  object\n",
      " 5   Purchase Address  85380 non-null  object\n",
      "dtypes: object(6)\n",
      "memory usage: 3.9+ MB\n"
     ]
    }
   ],
   "source": [
    "data_first_half.info()"
   ]
  },
  {
   "cell_type": "code",
   "execution_count": 16,
   "metadata": {},
   "outputs": [
    {
     "data": {
      "text/plain": [
       "Order ID            245\n",
       "Product             245\n",
       "Quantity Ordered    245\n",
       "Price Each          245\n",
       "Order Date          245\n",
       "Purchase Address    245\n",
       "dtype: int64"
      ]
     },
     "execution_count": 16,
     "metadata": {},
     "output_type": "execute_result"
    }
   ],
   "source": [
    "data_first_half.isnull().sum()"
   ]
  },
  {
   "cell_type": "code",
   "execution_count": 17,
   "metadata": {},
   "outputs": [
    {
     "data": {
      "text/html": [
       "<div>\n",
       "<style scoped>\n",
       "    .dataframe tbody tr th:only-of-type {\n",
       "        vertical-align: middle;\n",
       "    }\n",
       "\n",
       "    .dataframe tbody tr th {\n",
       "        vertical-align: top;\n",
       "    }\n",
       "\n",
       "    .dataframe thead th {\n",
       "        text-align: right;\n",
       "    }\n",
       "</style>\n",
       "<table border=\"1\" class=\"dataframe\">\n",
       "  <thead>\n",
       "    <tr style=\"text-align: right;\">\n",
       "      <th></th>\n",
       "      <th>Order_ID</th>\n",
       "      <th>Product</th>\n",
       "      <th>Quantity_Ordered</th>\n",
       "      <th>Price_Each</th>\n",
       "      <th>Order_Date</th>\n",
       "      <th>Purchase_Address</th>\n",
       "    </tr>\n",
       "  </thead>\n",
       "  <tbody>\n",
       "    <tr>\n",
       "      <th>0</th>\n",
       "      <td>236670.00</td>\n",
       "      <td>Wired Headphones</td>\n",
       "      <td>2.00</td>\n",
       "      <td>11.99</td>\n",
       "      <td>2031-08-19 22:21:00</td>\n",
       "      <td>359 Spruce St, Seattle, WA 98101</td>\n",
       "    </tr>\n",
       "    <tr>\n",
       "      <th>1</th>\n",
       "      <td>236671.00</td>\n",
       "      <td>Bose SoundSport Headphones</td>\n",
       "      <td>1.00</td>\n",
       "      <td>99.99</td>\n",
       "      <td>2015-08-19 15:11:00</td>\n",
       "      <td>492 Ridge St, Dallas, TX 75001</td>\n",
       "    </tr>\n",
       "    <tr>\n",
       "      <th>2</th>\n",
       "      <td>236672.00</td>\n",
       "      <td>iPhone</td>\n",
       "      <td>1.00</td>\n",
       "      <td>700.00</td>\n",
       "      <td>2006-08-19 14:40:00</td>\n",
       "      <td>149 7th St, Portland, OR 97035</td>\n",
       "    </tr>\n",
       "    <tr>\n",
       "      <th>3</th>\n",
       "      <td>236673.00</td>\n",
       "      <td>AA Batteries (4-pack)</td>\n",
       "      <td>2.00</td>\n",
       "      <td>3.84</td>\n",
       "      <td>2029-08-19 20:59:00</td>\n",
       "      <td>631 2nd St, Los Angeles, CA 90001</td>\n",
       "    </tr>\n",
       "    <tr>\n",
       "      <th>4</th>\n",
       "      <td>236674.00</td>\n",
       "      <td>AA Batteries (4-pack)</td>\n",
       "      <td>2.00</td>\n",
       "      <td>3.84</td>\n",
       "      <td>2015-08-19 19:53:00</td>\n",
       "      <td>736 14th St, New York City, NY 10001</td>\n",
       "    </tr>\n",
       "  </tbody>\n",
       "</table>\n",
       "</div>"
      ],
      "text/plain": [
       "   Order_ID                     Product  Quantity_Ordered  Price_Each  \\\n",
       "0 236670.00            Wired Headphones              2.00       11.99   \n",
       "1 236671.00  Bose SoundSport Headphones              1.00       99.99   \n",
       "2 236672.00                      iPhone              1.00      700.00   \n",
       "3 236673.00       AA Batteries (4-pack)              2.00        3.84   \n",
       "4 236674.00       AA Batteries (4-pack)              2.00        3.84   \n",
       "\n",
       "           Order_Date                      Purchase_Address  \n",
       "0 2031-08-19 22:21:00      359 Spruce St, Seattle, WA 98101  \n",
       "1 2015-08-19 15:11:00        492 Ridge St, Dallas, TX 75001  \n",
       "2 2006-08-19 14:40:00        149 7th St, Portland, OR 97035  \n",
       "3 2029-08-19 20:59:00     631 2nd St, Los Angeles, CA 90001  \n",
       "4 2015-08-19 19:53:00  736 14th St, New York City, NY 10001  "
      ]
     },
     "execution_count": 17,
     "metadata": {},
     "output_type": "execute_result"
    }
   ],
   "source": [
    "data_second_half.head()\n"
   ]
  },
  {
   "cell_type": "code",
   "execution_count": 18,
   "metadata": {},
   "outputs": [
    {
     "name": "stdout",
     "output_type": "stream",
     "text": [
      "<class 'pandas.core.frame.DataFrame'>\n",
      "RangeIndex: 101225 entries, 0 to 101224\n",
      "Data columns (total 6 columns):\n",
      " #   Column            Non-Null Count   Dtype         \n",
      "---  ------            --------------   -----         \n",
      " 0   Order_ID          100730 non-null  float64       \n",
      " 1   Product           100925 non-null  object        \n",
      " 2   Quantity_Ordered  100730 non-null  float64       \n",
      " 3   Price_Each        100730 non-null  float64       \n",
      " 4   Order_Date        100730 non-null  datetime64[ns]\n",
      " 5   Purchase_Address  100925 non-null  object        \n",
      "dtypes: datetime64[ns](1), float64(3), object(2)\n",
      "memory usage: 4.6+ MB\n"
     ]
    }
   ],
   "source": [
    "data_second_half.info()"
   ]
  },
  {
   "cell_type": "code",
   "execution_count": 19,
   "metadata": {},
   "outputs": [
    {
     "data": {
      "text/plain": [
       "Order_ID            495\n",
       "Product             300\n",
       "Quantity_Ordered    495\n",
       "Price_Each          495\n",
       "Order_Date          495\n",
       "Purchase_Address    300\n",
       "dtype: int64"
      ]
     },
     "execution_count": 19,
     "metadata": {},
     "output_type": "execute_result"
    }
   ],
   "source": [
    "data_second_half.isnull().sum()"
   ]
  },
  {
   "cell_type": "markdown",
   "metadata": {},
   "source": [
    "#### Key observations/insights from data\n",
    "- Orderdate column has data inconsistencies e.g 2031 which is practically impossible. It will be handled in the next step i.e data cleaning\n",
    "- Quantity orderd in the seconf half dataset is in float, it should be converted  to integer.\n",
    "- A new categorical column shall be created for high-level and low-level products\n",
    "- We have missing values from both first half and second half\n",
    "- The order date format is in object format when it should be in datetime\n",
    "- Columns in the second half does no match columns in the second half"
   ]
  },
  {
   "cell_type": "markdown",
   "metadata": {},
   "source": [
    "### `Data Cleaning` "
   ]
  },
  {
   "cell_type": "markdown",
   "metadata": {},
   "source": [
    "#### Handling the date column"
   ]
  },
  {
   "cell_type": "code",
   "execution_count": 20,
   "metadata": {},
   "outputs": [
    {
     "data": {
      "text/html": [
       "<div>\n",
       "<style scoped>\n",
       "    .dataframe tbody tr th:only-of-type {\n",
       "        vertical-align: middle;\n",
       "    }\n",
       "\n",
       "    .dataframe tbody tr th {\n",
       "        vertical-align: top;\n",
       "    }\n",
       "\n",
       "    .dataframe thead th {\n",
       "        text-align: right;\n",
       "    }\n",
       "</style>\n",
       "<table border=\"1\" class=\"dataframe\">\n",
       "  <thead>\n",
       "    <tr style=\"text-align: right;\">\n",
       "      <th></th>\n",
       "      <th>Order_ID</th>\n",
       "      <th>Product</th>\n",
       "      <th>Quantity_Ordered</th>\n",
       "      <th>Price_Each</th>\n",
       "      <th>Order_Date</th>\n",
       "      <th>Purchase_Address</th>\n",
       "    </tr>\n",
       "  </thead>\n",
       "  <tbody>\n",
       "    <tr>\n",
       "      <th>0</th>\n",
       "      <td>236670.00</td>\n",
       "      <td>Wired Headphones</td>\n",
       "      <td>2.00</td>\n",
       "      <td>11.99</td>\n",
       "      <td>19-08-31 22:21:00</td>\n",
       "      <td>359 Spruce St, Seattle, WA 98101</td>\n",
       "    </tr>\n",
       "    <tr>\n",
       "      <th>1</th>\n",
       "      <td>236671.00</td>\n",
       "      <td>Bose SoundSport Headphones</td>\n",
       "      <td>1.00</td>\n",
       "      <td>99.99</td>\n",
       "      <td>19-08-15 15:11:00</td>\n",
       "      <td>492 Ridge St, Dallas, TX 75001</td>\n",
       "    </tr>\n",
       "    <tr>\n",
       "      <th>2</th>\n",
       "      <td>236672.00</td>\n",
       "      <td>iPhone</td>\n",
       "      <td>1.00</td>\n",
       "      <td>700.00</td>\n",
       "      <td>19-08-06 14:40:00</td>\n",
       "      <td>149 7th St, Portland, OR 97035</td>\n",
       "    </tr>\n",
       "    <tr>\n",
       "      <th>3</th>\n",
       "      <td>236673.00</td>\n",
       "      <td>AA Batteries (4-pack)</td>\n",
       "      <td>2.00</td>\n",
       "      <td>3.84</td>\n",
       "      <td>19-08-29 20:59:00</td>\n",
       "      <td>631 2nd St, Los Angeles, CA 90001</td>\n",
       "    </tr>\n",
       "    <tr>\n",
       "      <th>4</th>\n",
       "      <td>236674.00</td>\n",
       "      <td>AA Batteries (4-pack)</td>\n",
       "      <td>2.00</td>\n",
       "      <td>3.84</td>\n",
       "      <td>19-08-15 19:53:00</td>\n",
       "      <td>736 14th St, New York City, NY 10001</td>\n",
       "    </tr>\n",
       "  </tbody>\n",
       "</table>\n",
       "</div>"
      ],
      "text/plain": [
       "   Order_ID                     Product  Quantity_Ordered  Price_Each  \\\n",
       "0 236670.00            Wired Headphones              2.00       11.99   \n",
       "1 236671.00  Bose SoundSport Headphones              1.00       99.99   \n",
       "2 236672.00                      iPhone              1.00      700.00   \n",
       "3 236673.00       AA Batteries (4-pack)              2.00        3.84   \n",
       "4 236674.00       AA Batteries (4-pack)              2.00        3.84   \n",
       "\n",
       "          Order_Date                      Purchase_Address  \n",
       "0  19-08-31 22:21:00      359 Spruce St, Seattle, WA 98101  \n",
       "1  19-08-15 15:11:00        492 Ridge St, Dallas, TX 75001  \n",
       "2  19-08-06 14:40:00        149 7th St, Portland, OR 97035  \n",
       "3  19-08-29 20:59:00     631 2nd St, Los Angeles, CA 90001  \n",
       "4  19-08-15 19:53:00  736 14th St, New York City, NY 10001  "
      ]
     },
     "execution_count": 20,
     "metadata": {},
     "output_type": "execute_result"
    }
   ],
   "source": [
    "# Function to clean and reformat the date\n",
    "def clean_date(date_str):\n",
    "    try:\n",
    "        # Convert string to datetime\n",
    "        dt = pd.to_datetime(date_str, format='%Y-%m-%d %H:%M:%S')\n",
    "        # Remove '20' from the year and reformat\n",
    "        return dt.strftime('%d-%m-%y %H:%M:%S')\n",
    "    except Exception as e:\n",
    "        return date_str  # Return original if there's an error\n",
    "\n",
    "# Apply the function to the 'Order_Date' column\n",
    "data_second_half['Order_Date'] = data_second_half['Order_Date'].apply(clean_date)\n",
    "\n",
    "# Display the cleaned DataFrame\n",
    "data_second_half.head()"
   ]
  },
  {
   "cell_type": "code",
   "execution_count": 21,
   "metadata": {},
   "outputs": [
    {
     "data": {
      "text/html": [
       "<div>\n",
       "<style scoped>\n",
       "    .dataframe tbody tr th:only-of-type {\n",
       "        vertical-align: middle;\n",
       "    }\n",
       "\n",
       "    .dataframe tbody tr th {\n",
       "        vertical-align: top;\n",
       "    }\n",
       "\n",
       "    .dataframe thead th {\n",
       "        text-align: right;\n",
       "    }\n",
       "</style>\n",
       "<table border=\"1\" class=\"dataframe\">\n",
       "  <thead>\n",
       "    <tr style=\"text-align: right;\">\n",
       "      <th></th>\n",
       "      <th>Order_ID</th>\n",
       "      <th>Product</th>\n",
       "      <th>Quantity_Ordered</th>\n",
       "      <th>Price_Each</th>\n",
       "      <th>Order_Date</th>\n",
       "      <th>Purchase_Address</th>\n",
       "    </tr>\n",
       "  </thead>\n",
       "  <tbody>\n",
       "    <tr>\n",
       "      <th>0</th>\n",
       "      <td>236670.00</td>\n",
       "      <td>Wired Headphones</td>\n",
       "      <td>2.00</td>\n",
       "      <td>11.99</td>\n",
       "      <td>08/31/19 22:21:00</td>\n",
       "      <td>359 Spruce St, Seattle, WA 98101</td>\n",
       "    </tr>\n",
       "    <tr>\n",
       "      <th>1</th>\n",
       "      <td>236671.00</td>\n",
       "      <td>Bose SoundSport Headphones</td>\n",
       "      <td>1.00</td>\n",
       "      <td>99.99</td>\n",
       "      <td>08/15/19 15:11:00</td>\n",
       "      <td>492 Ridge St, Dallas, TX 75001</td>\n",
       "    </tr>\n",
       "    <tr>\n",
       "      <th>2</th>\n",
       "      <td>236672.00</td>\n",
       "      <td>iPhone</td>\n",
       "      <td>1.00</td>\n",
       "      <td>700.00</td>\n",
       "      <td>08/06/19 14:40:00</td>\n",
       "      <td>149 7th St, Portland, OR 97035</td>\n",
       "    </tr>\n",
       "    <tr>\n",
       "      <th>3</th>\n",
       "      <td>236673.00</td>\n",
       "      <td>AA Batteries (4-pack)</td>\n",
       "      <td>2.00</td>\n",
       "      <td>3.84</td>\n",
       "      <td>08/29/19 20:59:00</td>\n",
       "      <td>631 2nd St, Los Angeles, CA 90001</td>\n",
       "    </tr>\n",
       "    <tr>\n",
       "      <th>4</th>\n",
       "      <td>236674.00</td>\n",
       "      <td>AA Batteries (4-pack)</td>\n",
       "      <td>2.00</td>\n",
       "      <td>3.84</td>\n",
       "      <td>08/15/19 19:53:00</td>\n",
       "      <td>736 14th St, New York City, NY 10001</td>\n",
       "    </tr>\n",
       "    <tr>\n",
       "      <th>...</th>\n",
       "      <td>...</td>\n",
       "      <td>...</td>\n",
       "      <td>...</td>\n",
       "      <td>...</td>\n",
       "      <td>...</td>\n",
       "      <td>...</td>\n",
       "    </tr>\n",
       "    <tr>\n",
       "      <th>101220</th>\n",
       "      <td>259353.00</td>\n",
       "      <td>AAA Batteries (4-pack)</td>\n",
       "      <td>3.00</td>\n",
       "      <td>2.99</td>\n",
       "      <td>09/17/19 20:56:00</td>\n",
       "      <td>840 Highland St, Los Angeles, CA 90001</td>\n",
       "    </tr>\n",
       "    <tr>\n",
       "      <th>101221</th>\n",
       "      <td>259354.00</td>\n",
       "      <td>iPhone</td>\n",
       "      <td>1.00</td>\n",
       "      <td>700.00</td>\n",
       "      <td>09/01/19 16:00:00</td>\n",
       "      <td>216 Dogwood St, San Francisco, CA 94016</td>\n",
       "    </tr>\n",
       "    <tr>\n",
       "      <th>101222</th>\n",
       "      <td>259355.00</td>\n",
       "      <td>iPhone</td>\n",
       "      <td>1.00</td>\n",
       "      <td>700.00</td>\n",
       "      <td>09/23/19 07:39:00</td>\n",
       "      <td>220 12th St, San Francisco, CA 94016</td>\n",
       "    </tr>\n",
       "    <tr>\n",
       "      <th>101223</th>\n",
       "      <td>259356.00</td>\n",
       "      <td>34in Ultrawide Monitor</td>\n",
       "      <td>1.00</td>\n",
       "      <td>379.99</td>\n",
       "      <td>09/19/19 17:30:00</td>\n",
       "      <td>511 Forest St, San Francisco, CA 94016</td>\n",
       "    </tr>\n",
       "    <tr>\n",
       "      <th>101224</th>\n",
       "      <td>259357.00</td>\n",
       "      <td>USB-C Charging Cable</td>\n",
       "      <td>1.00</td>\n",
       "      <td>11.95</td>\n",
       "      <td>09/30/19 00:18:00</td>\n",
       "      <td>250 Meadow St, San Francisco, CA 94016</td>\n",
       "    </tr>\n",
       "  </tbody>\n",
       "</table>\n",
       "<p>101225 rows × 6 columns</p>\n",
       "</div>"
      ],
      "text/plain": [
       "        Order_ID                     Product  Quantity_Ordered  Price_Each  \\\n",
       "0      236670.00            Wired Headphones              2.00       11.99   \n",
       "1      236671.00  Bose SoundSport Headphones              1.00       99.99   \n",
       "2      236672.00                      iPhone              1.00      700.00   \n",
       "3      236673.00       AA Batteries (4-pack)              2.00        3.84   \n",
       "4      236674.00       AA Batteries (4-pack)              2.00        3.84   \n",
       "...          ...                         ...               ...         ...   \n",
       "101220 259353.00      AAA Batteries (4-pack)              3.00        2.99   \n",
       "101221 259354.00                      iPhone              1.00      700.00   \n",
       "101222 259355.00                      iPhone              1.00      700.00   \n",
       "101223 259356.00      34in Ultrawide Monitor              1.00      379.99   \n",
       "101224 259357.00        USB-C Charging Cable              1.00       11.95   \n",
       "\n",
       "               Order_Date                         Purchase_Address  \n",
       "0       08/31/19 22:21:00         359 Spruce St, Seattle, WA 98101  \n",
       "1       08/15/19 15:11:00           492 Ridge St, Dallas, TX 75001  \n",
       "2       08/06/19 14:40:00           149 7th St, Portland, OR 97035  \n",
       "3       08/29/19 20:59:00        631 2nd St, Los Angeles, CA 90001  \n",
       "4       08/15/19 19:53:00     736 14th St, New York City, NY 10001  \n",
       "...                   ...                                      ...  \n",
       "101220  09/17/19 20:56:00   840 Highland St, Los Angeles, CA 90001  \n",
       "101221  09/01/19 16:00:00  216 Dogwood St, San Francisco, CA 94016  \n",
       "101222  09/23/19 07:39:00     220 12th St, San Francisco, CA 94016  \n",
       "101223  09/19/19 17:30:00   511 Forest St, San Francisco, CA 94016  \n",
       "101224  09/30/19 00:18:00   250 Meadow St, San Francisco, CA 94016  \n",
       "\n",
       "[101225 rows x 6 columns]"
      ]
     },
     "execution_count": 21,
     "metadata": {},
     "output_type": "execute_result"
    }
   ],
   "source": [
    "# Convert Order_Date to datetime with the current format\n",
    "data_second_half['Order_Date'] = pd.to_datetime(data_second_half['Order_Date'], format='%y-%m-%d %H:%M:%S')\n",
    "\n",
    "# Convert to the desired format (m/d/yy)\n",
    "data_second_half['Order_Date'] = data_second_half['Order_Date'].dt.strftime('%m/%d/%y %H:%M:%S')\n",
    "\n",
    "# Display the cleaned DataFrame\n",
    "data_second_half"
   ]
  },
  {
   "cell_type": "markdown",
   "metadata": {},
   "source": [
    "#### Concate the first and second half datasets"
   ]
  },
  {
   "cell_type": "code",
   "execution_count": 22,
   "metadata": {},
   "outputs": [
    {
     "data": {
      "text/html": [
       "<div>\n",
       "<style scoped>\n",
       "    .dataframe tbody tr th:only-of-type {\n",
       "        vertical-align: middle;\n",
       "    }\n",
       "\n",
       "    .dataframe tbody tr th {\n",
       "        vertical-align: top;\n",
       "    }\n",
       "\n",
       "    .dataframe thead th {\n",
       "        text-align: right;\n",
       "    }\n",
       "</style>\n",
       "<table border=\"1\" class=\"dataframe\">\n",
       "  <thead>\n",
       "    <tr style=\"text-align: right;\">\n",
       "      <th></th>\n",
       "      <th>Order ID</th>\n",
       "      <th>Product</th>\n",
       "      <th>Quantity Ordered</th>\n",
       "      <th>Price Each</th>\n",
       "      <th>Order Date</th>\n",
       "      <th>Purchase Address</th>\n",
       "    </tr>\n",
       "  </thead>\n",
       "  <tbody>\n",
       "    <tr>\n",
       "      <th>0</th>\n",
       "      <td>141234</td>\n",
       "      <td>iPhone</td>\n",
       "      <td>1</td>\n",
       "      <td>700</td>\n",
       "      <td>2019-01-22 21:25:00</td>\n",
       "      <td>944 Walnut St, Boston, MA 02215</td>\n",
       "    </tr>\n",
       "    <tr>\n",
       "      <th>1</th>\n",
       "      <td>141235</td>\n",
       "      <td>Lightning Charging Cable</td>\n",
       "      <td>1</td>\n",
       "      <td>14.95</td>\n",
       "      <td>2019-01-28 14:15:00</td>\n",
       "      <td>185 Maple St, Portland, OR 97035</td>\n",
       "    </tr>\n",
       "    <tr>\n",
       "      <th>2</th>\n",
       "      <td>141236</td>\n",
       "      <td>Wired Headphones</td>\n",
       "      <td>2</td>\n",
       "      <td>11.99</td>\n",
       "      <td>2019-01-17 13:33:00</td>\n",
       "      <td>538 Adams St, San Francisco, CA 94016</td>\n",
       "    </tr>\n",
       "    <tr>\n",
       "      <th>3</th>\n",
       "      <td>141237</td>\n",
       "      <td>27in FHD Monitor</td>\n",
       "      <td>1</td>\n",
       "      <td>149.99</td>\n",
       "      <td>2019-01-05 20:33:00</td>\n",
       "      <td>738 10th St, Los Angeles, CA 90001</td>\n",
       "    </tr>\n",
       "    <tr>\n",
       "      <th>4</th>\n",
       "      <td>141238</td>\n",
       "      <td>Wired Headphones</td>\n",
       "      <td>1</td>\n",
       "      <td>11.99</td>\n",
       "      <td>2019-01-25 11:59:00</td>\n",
       "      <td>387 10th St, Austin, TX 73301</td>\n",
       "    </tr>\n",
       "    <tr>\n",
       "      <th>...</th>\n",
       "      <td>...</td>\n",
       "      <td>...</td>\n",
       "      <td>...</td>\n",
       "      <td>...</td>\n",
       "      <td>...</td>\n",
       "      <td>...</td>\n",
       "    </tr>\n",
       "    <tr>\n",
       "      <th>186845</th>\n",
       "      <td>259353.00</td>\n",
       "      <td>AAA Batteries (4-pack)</td>\n",
       "      <td>3.00</td>\n",
       "      <td>2.99</td>\n",
       "      <td>09/17/19 20:56:00</td>\n",
       "      <td>840 Highland St, Los Angeles, CA 90001</td>\n",
       "    </tr>\n",
       "    <tr>\n",
       "      <th>186846</th>\n",
       "      <td>259354.00</td>\n",
       "      <td>iPhone</td>\n",
       "      <td>1.00</td>\n",
       "      <td>700.00</td>\n",
       "      <td>09/01/19 16:00:00</td>\n",
       "      <td>216 Dogwood St, San Francisco, CA 94016</td>\n",
       "    </tr>\n",
       "    <tr>\n",
       "      <th>186847</th>\n",
       "      <td>259355.00</td>\n",
       "      <td>iPhone</td>\n",
       "      <td>1.00</td>\n",
       "      <td>700.00</td>\n",
       "      <td>09/23/19 07:39:00</td>\n",
       "      <td>220 12th St, San Francisco, CA 94016</td>\n",
       "    </tr>\n",
       "    <tr>\n",
       "      <th>186848</th>\n",
       "      <td>259356.00</td>\n",
       "      <td>34in Ultrawide Monitor</td>\n",
       "      <td>1.00</td>\n",
       "      <td>379.99</td>\n",
       "      <td>09/19/19 17:30:00</td>\n",
       "      <td>511 Forest St, San Francisco, CA 94016</td>\n",
       "    </tr>\n",
       "    <tr>\n",
       "      <th>186849</th>\n",
       "      <td>259357.00</td>\n",
       "      <td>USB-C Charging Cable</td>\n",
       "      <td>1.00</td>\n",
       "      <td>11.95</td>\n",
       "      <td>09/30/19 00:18:00</td>\n",
       "      <td>250 Meadow St, San Francisco, CA 94016</td>\n",
       "    </tr>\n",
       "  </tbody>\n",
       "</table>\n",
       "<p>186850 rows × 6 columns</p>\n",
       "</div>"
      ],
      "text/plain": [
       "        Order ID                   Product Quantity Ordered Price Each  \\\n",
       "0         141234                    iPhone                1        700   \n",
       "1         141235  Lightning Charging Cable                1      14.95   \n",
       "2         141236          Wired Headphones                2      11.99   \n",
       "3         141237          27in FHD Monitor                1     149.99   \n",
       "4         141238          Wired Headphones                1      11.99   \n",
       "...          ...                       ...              ...        ...   \n",
       "186845 259353.00    AAA Batteries (4-pack)             3.00       2.99   \n",
       "186846 259354.00                    iPhone             1.00     700.00   \n",
       "186847 259355.00                    iPhone             1.00     700.00   \n",
       "186848 259356.00    34in Ultrawide Monitor             1.00     379.99   \n",
       "186849 259357.00      USB-C Charging Cable             1.00      11.95   \n",
       "\n",
       "                 Order Date                         Purchase Address  \n",
       "0       2019-01-22 21:25:00          944 Walnut St, Boston, MA 02215  \n",
       "1       2019-01-28 14:15:00         185 Maple St, Portland, OR 97035  \n",
       "2       2019-01-17 13:33:00    538 Adams St, San Francisco, CA 94016  \n",
       "3       2019-01-05 20:33:00       738 10th St, Los Angeles, CA 90001  \n",
       "4       2019-01-25 11:59:00            387 10th St, Austin, TX 73301  \n",
       "...                     ...                                      ...  \n",
       "186845    09/17/19 20:56:00   840 Highland St, Los Angeles, CA 90001  \n",
       "186846    09/01/19 16:00:00  216 Dogwood St, San Francisco, CA 94016  \n",
       "186847    09/23/19 07:39:00     220 12th St, San Francisco, CA 94016  \n",
       "186848    09/19/19 17:30:00   511 Forest St, San Francisco, CA 94016  \n",
       "186849    09/30/19 00:18:00   250 Meadow St, San Francisco, CA 94016  \n",
       "\n",
       "[186850 rows x 6 columns]"
      ]
     },
     "execution_count": 22,
     "metadata": {},
     "output_type": "execute_result"
    }
   ],
   "source": [
    "# Rename columns in the second half to match the first half\n",
    "data_second_half.rename(columns={\n",
    "    'Order_ID': 'Order ID',\n",
    "    'Quantity_Ordered': 'Quantity Ordered',\n",
    "    'Price_Each': 'Price Each',\n",
    "    'Order_Date': 'Order Date',\n",
    "    'Purchase_Address': 'Purchase Address'\n",
    "}, inplace=True)\n",
    "\n",
    "# Concatenate the datasets\n",
    "combined_data = pd.concat([data_first_half, data_second_half], ignore_index=True)\n",
    "\n",
    "# Display the combined DataFrame\n",
    "combined_data\n"
   ]
  },
  {
   "cell_type": "code",
   "execution_count": 23,
   "metadata": {},
   "outputs": [
    {
     "data": {
      "text/html": [
       "<div>\n",
       "<style scoped>\n",
       "    .dataframe tbody tr th:only-of-type {\n",
       "        vertical-align: middle;\n",
       "    }\n",
       "\n",
       "    .dataframe tbody tr th {\n",
       "        vertical-align: top;\n",
       "    }\n",
       "\n",
       "    .dataframe thead th {\n",
       "        text-align: right;\n",
       "    }\n",
       "</style>\n",
       "<table border=\"1\" class=\"dataframe\">\n",
       "  <thead>\n",
       "    <tr style=\"text-align: right;\">\n",
       "      <th></th>\n",
       "      <th>Order ID</th>\n",
       "      <th>Product</th>\n",
       "      <th>Quantity Ordered</th>\n",
       "      <th>Price Each</th>\n",
       "      <th>Order Date</th>\n",
       "      <th>Purchase Address</th>\n",
       "    </tr>\n",
       "  </thead>\n",
       "  <tbody>\n",
       "    <tr>\n",
       "      <th>0</th>\n",
       "      <td>141234</td>\n",
       "      <td>iPhone</td>\n",
       "      <td>1</td>\n",
       "      <td>700</td>\n",
       "      <td>2019-01-22 21:25:00</td>\n",
       "      <td>944 Walnut St, Boston, MA 02215</td>\n",
       "    </tr>\n",
       "    <tr>\n",
       "      <th>1</th>\n",
       "      <td>141235</td>\n",
       "      <td>Lightning Charging Cable</td>\n",
       "      <td>1</td>\n",
       "      <td>14.95</td>\n",
       "      <td>2019-01-28 14:15:00</td>\n",
       "      <td>185 Maple St, Portland, OR 97035</td>\n",
       "    </tr>\n",
       "    <tr>\n",
       "      <th>2</th>\n",
       "      <td>141236</td>\n",
       "      <td>Wired Headphones</td>\n",
       "      <td>2</td>\n",
       "      <td>11.99</td>\n",
       "      <td>2019-01-17 13:33:00</td>\n",
       "      <td>538 Adams St, San Francisco, CA 94016</td>\n",
       "    </tr>\n",
       "    <tr>\n",
       "      <th>3</th>\n",
       "      <td>141237</td>\n",
       "      <td>27in FHD Monitor</td>\n",
       "      <td>1</td>\n",
       "      <td>149.99</td>\n",
       "      <td>2019-01-05 20:33:00</td>\n",
       "      <td>738 10th St, Los Angeles, CA 90001</td>\n",
       "    </tr>\n",
       "    <tr>\n",
       "      <th>4</th>\n",
       "      <td>141238</td>\n",
       "      <td>Wired Headphones</td>\n",
       "      <td>1</td>\n",
       "      <td>11.99</td>\n",
       "      <td>2019-01-25 11:59:00</td>\n",
       "      <td>387 10th St, Austin, TX 73301</td>\n",
       "    </tr>\n",
       "  </tbody>\n",
       "</table>\n",
       "</div>"
      ],
      "text/plain": [
       "  Order ID                   Product Quantity Ordered Price Each  \\\n",
       "0   141234                    iPhone                1        700   \n",
       "1   141235  Lightning Charging Cable                1      14.95   \n",
       "2   141236          Wired Headphones                2      11.99   \n",
       "3   141237          27in FHD Monitor                1     149.99   \n",
       "4   141238          Wired Headphones                1      11.99   \n",
       "\n",
       "            Order Date                       Purchase Address  \n",
       "0  2019-01-22 21:25:00        944 Walnut St, Boston, MA 02215  \n",
       "1  2019-01-28 14:15:00       185 Maple St, Portland, OR 97035  \n",
       "2  2019-01-17 13:33:00  538 Adams St, San Francisco, CA 94016  \n",
       "3  2019-01-05 20:33:00     738 10th St, Los Angeles, CA 90001  \n",
       "4  2019-01-25 11:59:00          387 10th St, Austin, TX 73301  "
      ]
     },
     "execution_count": 23,
     "metadata": {},
     "output_type": "execute_result"
    }
   ],
   "source": [
    "# Display the combined DataFrame\n",
    "combined_data.head()"
   ]
  },
  {
   "cell_type": "code",
   "execution_count": 24,
   "metadata": {},
   "outputs": [
    {
     "name": "stdout",
     "output_type": "stream",
     "text": [
      "<class 'pandas.core.frame.DataFrame'>\n",
      "RangeIndex: 186850 entries, 0 to 186849\n",
      "Data columns (total 6 columns):\n",
      " #   Column            Non-Null Count   Dtype \n",
      "---  ------            --------------   ----- \n",
      " 0   Order ID          186110 non-null  object\n",
      " 1   Product           186305 non-null  object\n",
      " 2   Quantity Ordered  186110 non-null  object\n",
      " 3   Price Each        186110 non-null  object\n",
      " 4   Order Date        186110 non-null  object\n",
      " 5   Purchase Address  186305 non-null  object\n",
      "dtypes: object(6)\n",
      "memory usage: 8.6+ MB\n"
     ]
    }
   ],
   "source": [
    "combined_data.info()"
   ]
  },
  {
   "cell_type": "code",
   "execution_count": 25,
   "metadata": {},
   "outputs": [
    {
     "data": {
      "text/plain": [
       "Order ID            740\n",
       "Product             545\n",
       "Quantity Ordered    740\n",
       "Price Each          740\n",
       "Order Date          740\n",
       "Purchase Address    545\n",
       "dtype: int64"
      ]
     },
     "execution_count": 25,
     "metadata": {},
     "output_type": "execute_result"
    }
   ],
   "source": [
    "combined_data.isnull().sum()"
   ]
  },
  {
   "cell_type": "markdown",
   "metadata": {},
   "source": [
    "#### Handle missing values"
   ]
  },
  {
   "cell_type": "markdown",
   "metadata": {},
   "source": [
    "- Check for null rows"
   ]
  },
  {
   "cell_type": "code",
   "execution_count": 26,
   "metadata": {},
   "outputs": [
    {
     "name": "stdout",
     "output_type": "stream",
     "text": [
      "Number of rows with any missing values: 740\n",
      "     Order ID Product Quantity Ordered Price Each Order Date Purchase Address\n",
      "664       NaN     NaN              NaN        NaN        NaN              NaN\n",
      "678       NaN     NaN              NaN        NaN        NaN              NaN\n",
      "797       NaN     NaN              NaN        NaN        NaN              NaN\n",
      "876       NaN     NaN              NaN        NaN        NaN              NaN\n",
      "1299      NaN     NaN              NaN        NaN        NaN              NaN\n"
     ]
    }
   ],
   "source": [
    "# Check for rows with any missing values\n",
    "null_rows = combined_data[combined_data.isnull().any(axis=1)]\n",
    "\n",
    "# Display the number of such rows and the rows themselves\n",
    "print(f'Number of rows with any missing values: {len(null_rows)}')\n",
    "print(null_rows.head())  # Display first few rows with missing values\n"
   ]
  },
  {
   "cell_type": "code",
   "execution_count": 27,
   "metadata": {},
   "outputs": [
    {
     "name": "stdout",
     "output_type": "stream",
     "text": [
      "Number of rows with all missing values: 545\n"
     ]
    },
    {
     "data": {
      "text/html": [
       "<div>\n",
       "<style scoped>\n",
       "    .dataframe tbody tr th:only-of-type {\n",
       "        vertical-align: middle;\n",
       "    }\n",
       "\n",
       "    .dataframe tbody tr th {\n",
       "        vertical-align: top;\n",
       "    }\n",
       "\n",
       "    .dataframe thead th {\n",
       "        text-align: right;\n",
       "    }\n",
       "</style>\n",
       "<table border=\"1\" class=\"dataframe\">\n",
       "  <thead>\n",
       "    <tr style=\"text-align: right;\">\n",
       "      <th></th>\n",
       "      <th>Order ID</th>\n",
       "      <th>Product</th>\n",
       "      <th>Quantity Ordered</th>\n",
       "      <th>Price Each</th>\n",
       "      <th>Order Date</th>\n",
       "      <th>Purchase Address</th>\n",
       "    </tr>\n",
       "  </thead>\n",
       "  <tbody>\n",
       "    <tr>\n",
       "      <th>664</th>\n",
       "      <td>NaN</td>\n",
       "      <td>NaN</td>\n",
       "      <td>NaN</td>\n",
       "      <td>NaN</td>\n",
       "      <td>NaN</td>\n",
       "      <td>NaN</td>\n",
       "    </tr>\n",
       "    <tr>\n",
       "      <th>678</th>\n",
       "      <td>NaN</td>\n",
       "      <td>NaN</td>\n",
       "      <td>NaN</td>\n",
       "      <td>NaN</td>\n",
       "      <td>NaN</td>\n",
       "      <td>NaN</td>\n",
       "    </tr>\n",
       "    <tr>\n",
       "      <th>797</th>\n",
       "      <td>NaN</td>\n",
       "      <td>NaN</td>\n",
       "      <td>NaN</td>\n",
       "      <td>NaN</td>\n",
       "      <td>NaN</td>\n",
       "      <td>NaN</td>\n",
       "    </tr>\n",
       "    <tr>\n",
       "      <th>876</th>\n",
       "      <td>NaN</td>\n",
       "      <td>NaN</td>\n",
       "      <td>NaN</td>\n",
       "      <td>NaN</td>\n",
       "      <td>NaN</td>\n",
       "      <td>NaN</td>\n",
       "    </tr>\n",
       "    <tr>\n",
       "      <th>1299</th>\n",
       "      <td>NaN</td>\n",
       "      <td>NaN</td>\n",
       "      <td>NaN</td>\n",
       "      <td>NaN</td>\n",
       "      <td>NaN</td>\n",
       "      <td>NaN</td>\n",
       "    </tr>\n",
       "    <tr>\n",
       "      <th>...</th>\n",
       "      <td>...</td>\n",
       "      <td>...</td>\n",
       "      <td>...</td>\n",
       "      <td>...</td>\n",
       "      <td>...</td>\n",
       "      <td>...</td>\n",
       "    </tr>\n",
       "    <tr>\n",
       "      <th>185176</th>\n",
       "      <td>NaN</td>\n",
       "      <td>NaN</td>\n",
       "      <td>NaN</td>\n",
       "      <td>NaN</td>\n",
       "      <td>NaN</td>\n",
       "      <td>NaN</td>\n",
       "    </tr>\n",
       "    <tr>\n",
       "      <th>185438</th>\n",
       "      <td>NaN</td>\n",
       "      <td>NaN</td>\n",
       "      <td>NaN</td>\n",
       "      <td>NaN</td>\n",
       "      <td>NaN</td>\n",
       "      <td>NaN</td>\n",
       "    </tr>\n",
       "    <tr>\n",
       "      <th>186042</th>\n",
       "      <td>NaN</td>\n",
       "      <td>NaN</td>\n",
       "      <td>NaN</td>\n",
       "      <td>NaN</td>\n",
       "      <td>NaN</td>\n",
       "      <td>NaN</td>\n",
       "    </tr>\n",
       "    <tr>\n",
       "      <th>186548</th>\n",
       "      <td>NaN</td>\n",
       "      <td>NaN</td>\n",
       "      <td>NaN</td>\n",
       "      <td>NaN</td>\n",
       "      <td>NaN</td>\n",
       "      <td>NaN</td>\n",
       "    </tr>\n",
       "    <tr>\n",
       "      <th>186826</th>\n",
       "      <td>NaN</td>\n",
       "      <td>NaN</td>\n",
       "      <td>NaN</td>\n",
       "      <td>NaN</td>\n",
       "      <td>NaN</td>\n",
       "      <td>NaN</td>\n",
       "    </tr>\n",
       "  </tbody>\n",
       "</table>\n",
       "<p>545 rows × 6 columns</p>\n",
       "</div>"
      ],
      "text/plain": [
       "       Order ID Product Quantity Ordered Price Each Order Date  \\\n",
       "664         NaN     NaN              NaN        NaN        NaN   \n",
       "678         NaN     NaN              NaN        NaN        NaN   \n",
       "797         NaN     NaN              NaN        NaN        NaN   \n",
       "876         NaN     NaN              NaN        NaN        NaN   \n",
       "1299        NaN     NaN              NaN        NaN        NaN   \n",
       "...         ...     ...              ...        ...        ...   \n",
       "185176      NaN     NaN              NaN        NaN        NaN   \n",
       "185438      NaN     NaN              NaN        NaN        NaN   \n",
       "186042      NaN     NaN              NaN        NaN        NaN   \n",
       "186548      NaN     NaN              NaN        NaN        NaN   \n",
       "186826      NaN     NaN              NaN        NaN        NaN   \n",
       "\n",
       "       Purchase Address  \n",
       "664                 NaN  \n",
       "678                 NaN  \n",
       "797                 NaN  \n",
       "876                 NaN  \n",
       "1299                NaN  \n",
       "...                 ...  \n",
       "185176              NaN  \n",
       "185438              NaN  \n",
       "186042              NaN  \n",
       "186548              NaN  \n",
       "186826              NaN  \n",
       "\n",
       "[545 rows x 6 columns]"
      ]
     },
     "execution_count": 27,
     "metadata": {},
     "output_type": "execute_result"
    }
   ],
   "source": [
    "# Find rows where all columns have missing values\n",
    "all_missing_rows = combined_data[combined_data.isnull().all(axis=1)]\n",
    "\n",
    "# Display the number of such rows and the rows themselves\n",
    "print(f'Number of rows with all missing values: {len(all_missing_rows)}')\n",
    "all_missing_rows\n"
   ]
  },
  {
   "cell_type": "markdown",
   "metadata": {},
   "source": [
    "#### Dropping columns with all missing values"
   ]
  },
  {
   "cell_type": "code",
   "execution_count": 28,
   "metadata": {},
   "outputs": [
    {
     "data": {
      "text/plain": [
       "(186305, 6)"
      ]
     },
     "execution_count": 28,
     "metadata": {},
     "output_type": "execute_result"
    }
   ],
   "source": [
    "# Drop rows where all columns have missing values\n",
    "combined_data = combined_data.dropna(how='all')\n",
    "\n",
    "# Verify the shape of the DataFrame after dropping rows\n",
    "combined_data.shape\n"
   ]
  },
  {
   "cell_type": "markdown",
   "metadata": {},
   "source": [
    "#### Check remaining missing values"
   ]
  },
  {
   "cell_type": "code",
   "execution_count": 29,
   "metadata": {},
   "outputs": [
    {
     "name": "stdout",
     "output_type": "stream",
     "text": [
      "Number of rows with any missing values: 195\n"
     ]
    },
    {
     "data": {
      "text/html": [
       "<div>\n",
       "<style scoped>\n",
       "    .dataframe tbody tr th:only-of-type {\n",
       "        vertical-align: middle;\n",
       "    }\n",
       "\n",
       "    .dataframe tbody tr th {\n",
       "        vertical-align: top;\n",
       "    }\n",
       "\n",
       "    .dataframe thead th {\n",
       "        text-align: right;\n",
       "    }\n",
       "</style>\n",
       "<table border=\"1\" class=\"dataframe\">\n",
       "  <thead>\n",
       "    <tr style=\"text-align: right;\">\n",
       "      <th></th>\n",
       "      <th>Order ID</th>\n",
       "      <th>Product</th>\n",
       "      <th>Quantity Ordered</th>\n",
       "      <th>Price Each</th>\n",
       "      <th>Order Date</th>\n",
       "      <th>Purchase Address</th>\n",
       "    </tr>\n",
       "  </thead>\n",
       "  <tbody>\n",
       "    <tr>\n",
       "      <th>85836</th>\n",
       "      <td>NaN</td>\n",
       "      <td>Product</td>\n",
       "      <td>NaN</td>\n",
       "      <td>NaN</td>\n",
       "      <td>NaN</td>\n",
       "      <td>Purchase Address</td>\n",
       "    </tr>\n",
       "    <tr>\n",
       "      <th>85868</th>\n",
       "      <td>NaN</td>\n",
       "      <td>Product</td>\n",
       "      <td>NaN</td>\n",
       "      <td>NaN</td>\n",
       "      <td>NaN</td>\n",
       "      <td>Purchase Address</td>\n",
       "    </tr>\n",
       "    <tr>\n",
       "      <th>86916</th>\n",
       "      <td>NaN</td>\n",
       "      <td>Product</td>\n",
       "      <td>NaN</td>\n",
       "      <td>NaN</td>\n",
       "      <td>NaN</td>\n",
       "      <td>Purchase Address</td>\n",
       "    </tr>\n",
       "    <tr>\n",
       "      <th>87037</th>\n",
       "      <td>NaN</td>\n",
       "      <td>Product</td>\n",
       "      <td>NaN</td>\n",
       "      <td>NaN</td>\n",
       "      <td>NaN</td>\n",
       "      <td>Purchase Address</td>\n",
       "    </tr>\n",
       "    <tr>\n",
       "      <th>87052</th>\n",
       "      <td>NaN</td>\n",
       "      <td>Product</td>\n",
       "      <td>NaN</td>\n",
       "      <td>NaN</td>\n",
       "      <td>NaN</td>\n",
       "      <td>Purchase Address</td>\n",
       "    </tr>\n",
       "    <tr>\n",
       "      <th>...</th>\n",
       "      <td>...</td>\n",
       "      <td>...</td>\n",
       "      <td>...</td>\n",
       "      <td>...</td>\n",
       "      <td>...</td>\n",
       "      <td>...</td>\n",
       "    </tr>\n",
       "    <tr>\n",
       "      <th>185164</th>\n",
       "      <td>NaN</td>\n",
       "      <td>Product</td>\n",
       "      <td>NaN</td>\n",
       "      <td>NaN</td>\n",
       "      <td>NaN</td>\n",
       "      <td>Purchase Address</td>\n",
       "    </tr>\n",
       "    <tr>\n",
       "      <th>185551</th>\n",
       "      <td>NaN</td>\n",
       "      <td>Product</td>\n",
       "      <td>NaN</td>\n",
       "      <td>NaN</td>\n",
       "      <td>NaN</td>\n",
       "      <td>Purchase Address</td>\n",
       "    </tr>\n",
       "    <tr>\n",
       "      <th>186563</th>\n",
       "      <td>NaN</td>\n",
       "      <td>Product</td>\n",
       "      <td>NaN</td>\n",
       "      <td>NaN</td>\n",
       "      <td>NaN</td>\n",
       "      <td>Purchase Address</td>\n",
       "    </tr>\n",
       "    <tr>\n",
       "      <th>186632</th>\n",
       "      <td>NaN</td>\n",
       "      <td>Product</td>\n",
       "      <td>NaN</td>\n",
       "      <td>NaN</td>\n",
       "      <td>NaN</td>\n",
       "      <td>Purchase Address</td>\n",
       "    </tr>\n",
       "    <tr>\n",
       "      <th>186738</th>\n",
       "      <td>NaN</td>\n",
       "      <td>Product</td>\n",
       "      <td>NaN</td>\n",
       "      <td>NaN</td>\n",
       "      <td>NaN</td>\n",
       "      <td>Purchase Address</td>\n",
       "    </tr>\n",
       "  </tbody>\n",
       "</table>\n",
       "<p>195 rows × 6 columns</p>\n",
       "</div>"
      ],
      "text/plain": [
       "       Order ID  Product Quantity Ordered Price Each Order Date  \\\n",
       "85836       NaN  Product              NaN        NaN        NaN   \n",
       "85868       NaN  Product              NaN        NaN        NaN   \n",
       "86916       NaN  Product              NaN        NaN        NaN   \n",
       "87037       NaN  Product              NaN        NaN        NaN   \n",
       "87052       NaN  Product              NaN        NaN        NaN   \n",
       "...         ...      ...              ...        ...        ...   \n",
       "185164      NaN  Product              NaN        NaN        NaN   \n",
       "185551      NaN  Product              NaN        NaN        NaN   \n",
       "186563      NaN  Product              NaN        NaN        NaN   \n",
       "186632      NaN  Product              NaN        NaN        NaN   \n",
       "186738      NaN  Product              NaN        NaN        NaN   \n",
       "\n",
       "        Purchase Address  \n",
       "85836   Purchase Address  \n",
       "85868   Purchase Address  \n",
       "86916   Purchase Address  \n",
       "87037   Purchase Address  \n",
       "87052   Purchase Address  \n",
       "...                  ...  \n",
       "185164  Purchase Address  \n",
       "185551  Purchase Address  \n",
       "186563  Purchase Address  \n",
       "186632  Purchase Address  \n",
       "186738  Purchase Address  \n",
       "\n",
       "[195 rows x 6 columns]"
      ]
     },
     "execution_count": 29,
     "metadata": {},
     "output_type": "execute_result"
    }
   ],
   "source": [
    "# Check for rows with any missing values\n",
    "null_rows = combined_data[combined_data.isnull().any(axis=1)]\n",
    "\n",
    "# Display the number of such rows and the rows themselves\n",
    "print(f'Number of rows with any missing values: {len(null_rows)}')\n",
    "null_rows # Display first few rows with missing values"
   ]
  },
  {
   "cell_type": "markdown",
   "metadata": {},
   "source": [
    "- We delete the remaining rows with missing values since the given info is not meaningfull"
   ]
  },
  {
   "cell_type": "code",
   "execution_count": 30,
   "metadata": {},
   "outputs": [
    {
     "name": "stdout",
     "output_type": "stream",
     "text": [
      "(186110, 6)\n"
     ]
    }
   ],
   "source": [
    "# Drop rows with any missing values\n",
    "combined_data_cleaned = combined_data.dropna(how='any')\n",
    "\n",
    "# Verify the shape of the DataFrame after dropping rows\n",
    "print(combined_data_cleaned.shape)"
   ]
  },
  {
   "cell_type": "code",
   "execution_count": 31,
   "metadata": {},
   "outputs": [
    {
     "data": {
      "text/html": [
       "<div>\n",
       "<style scoped>\n",
       "    .dataframe tbody tr th:only-of-type {\n",
       "        vertical-align: middle;\n",
       "    }\n",
       "\n",
       "    .dataframe tbody tr th {\n",
       "        vertical-align: top;\n",
       "    }\n",
       "\n",
       "    .dataframe thead th {\n",
       "        text-align: right;\n",
       "    }\n",
       "</style>\n",
       "<table border=\"1\" class=\"dataframe\">\n",
       "  <thead>\n",
       "    <tr style=\"text-align: right;\">\n",
       "      <th></th>\n",
       "      <th>Order ID</th>\n",
       "      <th>Product</th>\n",
       "      <th>Quantity Ordered</th>\n",
       "      <th>Price Each</th>\n",
       "      <th>Order Date</th>\n",
       "      <th>Purchase Address</th>\n",
       "    </tr>\n",
       "  </thead>\n",
       "  <tbody>\n",
       "    <tr>\n",
       "      <th>0</th>\n",
       "      <td>141234</td>\n",
       "      <td>iPhone</td>\n",
       "      <td>1</td>\n",
       "      <td>700</td>\n",
       "      <td>2019-01-22 21:25:00</td>\n",
       "      <td>944 Walnut St, Boston, MA 02215</td>\n",
       "    </tr>\n",
       "    <tr>\n",
       "      <th>1</th>\n",
       "      <td>141235</td>\n",
       "      <td>Lightning Charging Cable</td>\n",
       "      <td>1</td>\n",
       "      <td>14.95</td>\n",
       "      <td>2019-01-28 14:15:00</td>\n",
       "      <td>185 Maple St, Portland, OR 97035</td>\n",
       "    </tr>\n",
       "    <tr>\n",
       "      <th>2</th>\n",
       "      <td>141236</td>\n",
       "      <td>Wired Headphones</td>\n",
       "      <td>2</td>\n",
       "      <td>11.99</td>\n",
       "      <td>2019-01-17 13:33:00</td>\n",
       "      <td>538 Adams St, San Francisco, CA 94016</td>\n",
       "    </tr>\n",
       "    <tr>\n",
       "      <th>3</th>\n",
       "      <td>141237</td>\n",
       "      <td>27in FHD Monitor</td>\n",
       "      <td>1</td>\n",
       "      <td>149.99</td>\n",
       "      <td>2019-01-05 20:33:00</td>\n",
       "      <td>738 10th St, Los Angeles, CA 90001</td>\n",
       "    </tr>\n",
       "    <tr>\n",
       "      <th>4</th>\n",
       "      <td>141238</td>\n",
       "      <td>Wired Headphones</td>\n",
       "      <td>1</td>\n",
       "      <td>11.99</td>\n",
       "      <td>2019-01-25 11:59:00</td>\n",
       "      <td>387 10th St, Austin, TX 73301</td>\n",
       "    </tr>\n",
       "  </tbody>\n",
       "</table>\n",
       "</div>"
      ],
      "text/plain": [
       "  Order ID                   Product Quantity Ordered Price Each  \\\n",
       "0   141234                    iPhone                1        700   \n",
       "1   141235  Lightning Charging Cable                1      14.95   \n",
       "2   141236          Wired Headphones                2      11.99   \n",
       "3   141237          27in FHD Monitor                1     149.99   \n",
       "4   141238          Wired Headphones                1      11.99   \n",
       "\n",
       "            Order Date                       Purchase Address  \n",
       "0  2019-01-22 21:25:00        944 Walnut St, Boston, MA 02215  \n",
       "1  2019-01-28 14:15:00       185 Maple St, Portland, OR 97035  \n",
       "2  2019-01-17 13:33:00  538 Adams St, San Francisco, CA 94016  \n",
       "3  2019-01-05 20:33:00     738 10th St, Los Angeles, CA 90001  \n",
       "4  2019-01-25 11:59:00          387 10th St, Austin, TX 73301  "
      ]
     },
     "execution_count": 31,
     "metadata": {},
     "output_type": "execute_result"
    }
   ],
   "source": [
    "combined_data_cleaned.head()"
   ]
  },
  {
   "cell_type": "code",
   "execution_count": 32,
   "metadata": {},
   "outputs": [
    {
     "name": "stdout",
     "output_type": "stream",
     "text": [
      "<class 'pandas.core.frame.DataFrame'>\n",
      "Index: 186110 entries, 0 to 186849\n",
      "Data columns (total 6 columns):\n",
      " #   Column            Non-Null Count   Dtype \n",
      "---  ------            --------------   ----- \n",
      " 0   Order ID          186110 non-null  object\n",
      " 1   Product           186110 non-null  object\n",
      " 2   Quantity Ordered  186110 non-null  object\n",
      " 3   Price Each        186110 non-null  object\n",
      " 4   Order Date        186110 non-null  object\n",
      " 5   Purchase Address  186110 non-null  object\n",
      "dtypes: object(6)\n",
      "memory usage: 9.9+ MB\n"
     ]
    }
   ],
   "source": [
    "combined_data_cleaned.info()"
   ]
  },
  {
   "cell_type": "code",
   "execution_count": 33,
   "metadata": {},
   "outputs": [
    {
     "data": {
      "text/plain": [
       "Order ID            0\n",
       "Product             0\n",
       "Quantity Ordered    0\n",
       "Price Each          0\n",
       "Order Date          0\n",
       "Purchase Address    0\n",
       "dtype: int64"
      ]
     },
     "execution_count": 33,
     "metadata": {},
     "output_type": "execute_result"
    }
   ],
   "source": [
    "combined_data_cleaned.isnull().sum()"
   ]
  },
  {
   "cell_type": "code",
   "execution_count": 34,
   "metadata": {},
   "outputs": [
    {
     "data": {
      "text/plain": [
       "array(['1', '2', '3', '5', '4', '7', 'Quantity Ordered', '6', '9', 2.0,\n",
       "       1.0, 3.0, 4.0, 6.0, 7.0, 5.0, 8.0, 9.0], dtype=object)"
      ]
     },
     "execution_count": 34,
     "metadata": {},
     "output_type": "execute_result"
    }
   ],
   "source": [
    "combined_data_cleaned['Quantity Ordered'].unique()"
   ]
  },
  {
   "cell_type": "code",
   "execution_count": 35,
   "metadata": {},
   "outputs": [
    {
     "data": {
      "text/html": [
       "<div>\n",
       "<style scoped>\n",
       "    .dataframe tbody tr th:only-of-type {\n",
       "        vertical-align: middle;\n",
       "    }\n",
       "\n",
       "    .dataframe tbody tr th {\n",
       "        vertical-align: top;\n",
       "    }\n",
       "\n",
       "    .dataframe thead th {\n",
       "        text-align: right;\n",
       "    }\n",
       "</style>\n",
       "<table border=\"1\" class=\"dataframe\">\n",
       "  <thead>\n",
       "    <tr style=\"text-align: right;\">\n",
       "      <th></th>\n",
       "      <th>Order ID</th>\n",
       "      <th>Product</th>\n",
       "      <th>Quantity Ordered</th>\n",
       "      <th>Price Each</th>\n",
       "      <th>Order Date</th>\n",
       "      <th>Purchase Address</th>\n",
       "    </tr>\n",
       "  </thead>\n",
       "  <tbody>\n",
       "    <tr>\n",
       "      <th>1073</th>\n",
       "      <td>Order ID</td>\n",
       "      <td>Product</td>\n",
       "      <td>Quantity Ordered</td>\n",
       "      <td>Price Each</td>\n",
       "      <td>Order Date</td>\n",
       "      <td>Purchase Address</td>\n",
       "    </tr>\n",
       "    <tr>\n",
       "      <th>1102</th>\n",
       "      <td>Order ID</td>\n",
       "      <td>Product</td>\n",
       "      <td>Quantity Ordered</td>\n",
       "      <td>Price Each</td>\n",
       "      <td>Order Date</td>\n",
       "      <td>Purchase Address</td>\n",
       "    </tr>\n",
       "    <tr>\n",
       "      <th>1194</th>\n",
       "      <td>Order ID</td>\n",
       "      <td>Product</td>\n",
       "      <td>Quantity Ordered</td>\n",
       "      <td>Price Each</td>\n",
       "      <td>Order Date</td>\n",
       "      <td>Purchase Address</td>\n",
       "    </tr>\n",
       "    <tr>\n",
       "      <th>1897</th>\n",
       "      <td>Order ID</td>\n",
       "      <td>Product</td>\n",
       "      <td>Quantity Ordered</td>\n",
       "      <td>Price Each</td>\n",
       "      <td>Order Date</td>\n",
       "      <td>Purchase Address</td>\n",
       "    </tr>\n",
       "    <tr>\n",
       "      <th>2463</th>\n",
       "      <td>Order ID</td>\n",
       "      <td>Product</td>\n",
       "      <td>Quantity Ordered</td>\n",
       "      <td>Price Each</td>\n",
       "      <td>Order Date</td>\n",
       "      <td>Purchase Address</td>\n",
       "    </tr>\n",
       "    <tr>\n",
       "      <th>...</th>\n",
       "      <td>...</td>\n",
       "      <td>...</td>\n",
       "      <td>...</td>\n",
       "      <td>...</td>\n",
       "      <td>...</td>\n",
       "      <td>...</td>\n",
       "    </tr>\n",
       "    <tr>\n",
       "      <th>82446</th>\n",
       "      <td>Order ID</td>\n",
       "      <td>Product</td>\n",
       "      <td>Quantity Ordered</td>\n",
       "      <td>Price Each</td>\n",
       "      <td>Order Date</td>\n",
       "      <td>Purchase Address</td>\n",
       "    </tr>\n",
       "    <tr>\n",
       "      <th>82787</th>\n",
       "      <td>Order ID</td>\n",
       "      <td>Product</td>\n",
       "      <td>Quantity Ordered</td>\n",
       "      <td>Price Each</td>\n",
       "      <td>Order Date</td>\n",
       "      <td>Purchase Address</td>\n",
       "    </tr>\n",
       "    <tr>\n",
       "      <th>82816</th>\n",
       "      <td>Order ID</td>\n",
       "      <td>Product</td>\n",
       "      <td>Quantity Ordered</td>\n",
       "      <td>Price Each</td>\n",
       "      <td>Order Date</td>\n",
       "      <td>Purchase Address</td>\n",
       "    </tr>\n",
       "    <tr>\n",
       "      <th>83050</th>\n",
       "      <td>Order ID</td>\n",
       "      <td>Product</td>\n",
       "      <td>Quantity Ordered</td>\n",
       "      <td>Price Each</td>\n",
       "      <td>Order Date</td>\n",
       "      <td>Purchase Address</td>\n",
       "    </tr>\n",
       "    <tr>\n",
       "      <th>85307</th>\n",
       "      <td>Order ID</td>\n",
       "      <td>Product</td>\n",
       "      <td>Quantity Ordered</td>\n",
       "      <td>Price Each</td>\n",
       "      <td>Order Date</td>\n",
       "      <td>Purchase Address</td>\n",
       "    </tr>\n",
       "  </tbody>\n",
       "</table>\n",
       "<p>160 rows × 6 columns</p>\n",
       "</div>"
      ],
      "text/plain": [
       "       Order ID  Product  Quantity Ordered  Price Each  Order Date  \\\n",
       "1073   Order ID  Product  Quantity Ordered  Price Each  Order Date   \n",
       "1102   Order ID  Product  Quantity Ordered  Price Each  Order Date   \n",
       "1194   Order ID  Product  Quantity Ordered  Price Each  Order Date   \n",
       "1897   Order ID  Product  Quantity Ordered  Price Each  Order Date   \n",
       "2463   Order ID  Product  Quantity Ordered  Price Each  Order Date   \n",
       "...         ...      ...               ...         ...         ...   \n",
       "82446  Order ID  Product  Quantity Ordered  Price Each  Order Date   \n",
       "82787  Order ID  Product  Quantity Ordered  Price Each  Order Date   \n",
       "82816  Order ID  Product  Quantity Ordered  Price Each  Order Date   \n",
       "83050  Order ID  Product  Quantity Ordered  Price Each  Order Date   \n",
       "85307  Order ID  Product  Quantity Ordered  Price Each  Order Date   \n",
       "\n",
       "       Purchase Address  \n",
       "1073   Purchase Address  \n",
       "1102   Purchase Address  \n",
       "1194   Purchase Address  \n",
       "1897   Purchase Address  \n",
       "2463   Purchase Address  \n",
       "...                 ...  \n",
       "82446  Purchase Address  \n",
       "82787  Purchase Address  \n",
       "82816  Purchase Address  \n",
       "83050  Purchase Address  \n",
       "85307  Purchase Address  \n",
       "\n",
       "[160 rows x 6 columns]"
      ]
     },
     "execution_count": 35,
     "metadata": {},
     "output_type": "execute_result"
    }
   ],
   "source": [
    "# Convert 'Quantity Ordered' to string first\n",
    "combined_data_cleaned['Quantity Ordered'] = combined_data_cleaned['Quantity Ordered'].astype(str)\n",
    "\n",
    "# Identify non-numeric values\n",
    "non_numeric_quantity = combined_data_cleaned[pd.to_numeric(combined_data_cleaned['Quantity Ordered'], errors='coerce').isna()]\n",
    "\n",
    "non_numeric_quantity"
   ]
  },
  {
   "cell_type": "markdown",
   "metadata": {},
   "source": [
    "#### Observations\n",
    "- No null values\n",
    "- incorrect  feature formats\n",
    "- non_numeric quantities"
   ]
  },
  {
   "cell_type": "markdown",
   "metadata": {},
   "source": [
    "#### Drop non-numeric quantity"
   ]
  },
  {
   "cell_type": "code",
   "execution_count": 36,
   "metadata": {},
   "outputs": [
    {
     "name": "stdout",
     "output_type": "stream",
     "text": [
      "<class 'pandas.core.frame.DataFrame'>\n",
      "RangeIndex: 185950 entries, 0 to 185949\n",
      "Data columns (total 6 columns):\n",
      " #   Column            Non-Null Count   Dtype \n",
      "---  ------            --------------   ----- \n",
      " 0   Order ID          185950 non-null  object\n",
      " 1   Product           185950 non-null  object\n",
      " 2   Quantity Ordered  185950 non-null  object\n",
      " 3   Price Each        185950 non-null  object\n",
      " 4   Order Date        185950 non-null  object\n",
      " 5   Purchase Address  185950 non-null  object\n",
      "dtypes: object(6)\n",
      "memory usage: 8.5+ MB\n"
     ]
    }
   ],
   "source": [
    "# Convert 'Quantity Ordered' to string first\n",
    "combined_data_cleaned['Quantity Ordered'] = combined_data_cleaned['Quantity Ordered'].astype(str)\n",
    "\n",
    "# Identify non-numeric values\n",
    "non_numeric_quantity = pd.to_numeric(combined_data_cleaned['Quantity Ordered'], errors='coerce').isna()\n",
    "\n",
    "# Drop rows with non-numeric 'Quantity Ordered'\n",
    "combined_data_cleaned = combined_data_cleaned[~non_numeric_quantity]\n",
    "\n",
    "# Reset index if needed\n",
    "combined_data_cleaned.reset_index(drop=True, inplace=True)\n",
    "\n",
    "combined_data_cleaned.info()"
   ]
  },
  {
   "cell_type": "code",
   "execution_count": 37,
   "metadata": {},
   "outputs": [
    {
     "data": {
      "text/plain": [
       "array(['1', '2', '3', '5', '4', '7', '6', '9', '2.0', '1.0', '3.0', '4.0',\n",
       "       '6.0', '7.0', '5.0', '8.0', '9.0'], dtype=object)"
      ]
     },
     "execution_count": 37,
     "metadata": {},
     "output_type": "execute_result"
    }
   ],
   "source": [
    "combined_data_cleaned['Quantity Ordered'].unique()"
   ]
  },
  {
   "cell_type": "code",
   "execution_count": 38,
   "metadata": {},
   "outputs": [],
   "source": [
    "# Convert 'Order Date' to datetime\n",
    "combined_data_cleaned['Order Date'] = pd.to_datetime(combined_data_cleaned['Order Date'], errors='coerce')\n"
   ]
  },
  {
   "cell_type": "code",
   "execution_count": 39,
   "metadata": {},
   "outputs": [
    {
     "name": "stdout",
     "output_type": "stream",
     "text": [
      "<class 'pandas.core.frame.DataFrame'>\n",
      "RangeIndex: 185950 entries, 0 to 185949\n",
      "Data columns (total 6 columns):\n",
      " #   Column            Non-Null Count   Dtype         \n",
      "---  ------            --------------   -----         \n",
      " 0   Order ID          185950 non-null  object        \n",
      " 1   Product           185950 non-null  object        \n",
      " 2   Quantity Ordered  185950 non-null  int64         \n",
      " 3   Price Each        185950 non-null  object        \n",
      " 4   Order Date        85220 non-null   datetime64[ns]\n",
      " 5   Purchase Address  185950 non-null  object        \n",
      "dtypes: datetime64[ns](1), int64(1), object(4)\n",
      "memory usage: 8.5+ MB\n"
     ]
    }
   ],
   "source": [
    "# Remove non-numeric values\n",
    "combined_data_cleaned['Quantity Ordered'] = pd.to_numeric(combined_data_cleaned['Quantity Ordered'], errors='coerce')\n",
    "\n",
    "# Drop rows where 'Quantity Ordered' could not be converted to a number\n",
    "combined_data_cleaned = combined_data_cleaned.dropna(subset=['Quantity Ordered'])\n",
    "\n",
    "# Convert 'Quantity Ordered' to integer\n",
    "combined_data_cleaned['Quantity Ordered'] = combined_data_cleaned['Quantity Ordered'].astype(int)\n",
    "\n",
    "# Check the updated DataFrame info\n",
    "combined_data_cleaned.info()"
   ]
  },
  {
   "cell_type": "code",
   "execution_count": 40,
   "metadata": {},
   "outputs": [
    {
     "name": "stdout",
     "output_type": "stream",
     "text": [
      "<class 'pandas.core.frame.DataFrame'>\n",
      "RangeIndex: 185950 entries, 0 to 185949\n",
      "Data columns (total 6 columns):\n",
      " #   Column            Non-Null Count   Dtype         \n",
      "---  ------            --------------   -----         \n",
      " 0   Order ID          185950 non-null  object        \n",
      " 1   Product           185950 non-null  object        \n",
      " 2   Quantity Ordered  185950 non-null  int64         \n",
      " 3   Price Each        185950 non-null  float64       \n",
      " 4   Order Date        85220 non-null   datetime64[ns]\n",
      " 5   Purchase Address  185950 non-null  object        \n",
      "dtypes: datetime64[ns](1), float64(1), int64(1), object(3)\n",
      "memory usage: 8.5+ MB\n"
     ]
    }
   ],
   "source": [
    "# Convert 'Price Each' to float\n",
    "combined_data_cleaned['Price Each'] = combined_data_cleaned['Price Each'].astype(float)\n",
    "\n",
    "# Verify the changes\n",
    "combined_data_cleaned.info()"
   ]
  },
  {
   "cell_type": "code",
   "execution_count": 41,
   "metadata": {},
   "outputs": [
    {
     "data": {
      "text/html": [
       "<div>\n",
       "<style scoped>\n",
       "    .dataframe tbody tr th:only-of-type {\n",
       "        vertical-align: middle;\n",
       "    }\n",
       "\n",
       "    .dataframe tbody tr th {\n",
       "        vertical-align: top;\n",
       "    }\n",
       "\n",
       "    .dataframe thead th {\n",
       "        text-align: right;\n",
       "    }\n",
       "</style>\n",
       "<table border=\"1\" class=\"dataframe\">\n",
       "  <thead>\n",
       "    <tr style=\"text-align: right;\">\n",
       "      <th></th>\n",
       "      <th>Order ID</th>\n",
       "      <th>Product</th>\n",
       "      <th>Quantity Ordered</th>\n",
       "      <th>Price Each</th>\n",
       "      <th>Order Date</th>\n",
       "      <th>Purchase Address</th>\n",
       "    </tr>\n",
       "  </thead>\n",
       "  <tbody>\n",
       "    <tr>\n",
       "      <th>0</th>\n",
       "      <td>141234</td>\n",
       "      <td>iPhone</td>\n",
       "      <td>1</td>\n",
       "      <td>700.00</td>\n",
       "      <td>2019-01-22 21:25:00</td>\n",
       "      <td>944 Walnut St, Boston, MA 02215</td>\n",
       "    </tr>\n",
       "    <tr>\n",
       "      <th>1</th>\n",
       "      <td>141235</td>\n",
       "      <td>Lightning Charging Cable</td>\n",
       "      <td>1</td>\n",
       "      <td>14.95</td>\n",
       "      <td>2019-01-28 14:15:00</td>\n",
       "      <td>185 Maple St, Portland, OR 97035</td>\n",
       "    </tr>\n",
       "    <tr>\n",
       "      <th>2</th>\n",
       "      <td>141236</td>\n",
       "      <td>Wired Headphones</td>\n",
       "      <td>2</td>\n",
       "      <td>11.99</td>\n",
       "      <td>2019-01-17 13:33:00</td>\n",
       "      <td>538 Adams St, San Francisco, CA 94016</td>\n",
       "    </tr>\n",
       "    <tr>\n",
       "      <th>3</th>\n",
       "      <td>141237</td>\n",
       "      <td>27in FHD Monitor</td>\n",
       "      <td>1</td>\n",
       "      <td>149.99</td>\n",
       "      <td>2019-01-05 20:33:00</td>\n",
       "      <td>738 10th St, Los Angeles, CA 90001</td>\n",
       "    </tr>\n",
       "    <tr>\n",
       "      <th>4</th>\n",
       "      <td>141238</td>\n",
       "      <td>Wired Headphones</td>\n",
       "      <td>1</td>\n",
       "      <td>11.99</td>\n",
       "      <td>2019-01-25 11:59:00</td>\n",
       "      <td>387 10th St, Austin, TX 73301</td>\n",
       "    </tr>\n",
       "  </tbody>\n",
       "</table>\n",
       "</div>"
      ],
      "text/plain": [
       "  Order ID                   Product  Quantity Ordered  Price Each  \\\n",
       "0   141234                    iPhone                 1      700.00   \n",
       "1   141235  Lightning Charging Cable                 1       14.95   \n",
       "2   141236          Wired Headphones                 2       11.99   \n",
       "3   141237          27in FHD Monitor                 1      149.99   \n",
       "4   141238          Wired Headphones                 1       11.99   \n",
       "\n",
       "           Order Date                       Purchase Address  \n",
       "0 2019-01-22 21:25:00        944 Walnut St, Boston, MA 02215  \n",
       "1 2019-01-28 14:15:00       185 Maple St, Portland, OR 97035  \n",
       "2 2019-01-17 13:33:00  538 Adams St, San Francisco, CA 94016  \n",
       "3 2019-01-05 20:33:00     738 10th St, Los Angeles, CA 90001  \n",
       "4 2019-01-25 11:59:00          387 10th St, Austin, TX 73301  "
      ]
     },
     "execution_count": 41,
     "metadata": {},
     "output_type": "execute_result"
    }
   ],
   "source": [
    "combined_data_cleaned.head()"
   ]
  },
  {
   "cell_type": "markdown",
   "metadata": {},
   "source": [
    "#### Check for Duplicates"
   ]
  },
  {
   "cell_type": "code",
   "execution_count": 42,
   "metadata": {},
   "outputs": [
    {
     "name": "stdout",
     "output_type": "stream",
     "text": [
      "Number of duplicate rows: 528\n",
      "Duplicate Rows:\n",
      "        Order ID                   Product  Quantity Ordered  Price Each  \\\n",
      "871       142071     AA Batteries (4-pack)                 1        3.84   \n",
      "872       142071     AA Batteries (4-pack)                 1        3.84   \n",
      "4105      145143  Lightning Charging Cable                 1       14.95   \n",
      "4106      145143  Lightning Charging Cable                 1       14.95   \n",
      "5784      146765              Google Phone                 1      600.00   \n",
      "...          ...                       ...               ...         ...   \n",
      "185613 259035.00          27in FHD Monitor                 1      149.99   \n",
      "185882 259296.00  Apple Airpods Headphones                 1      150.00   \n",
      "185883 259296.00  Apple Airpods Headphones                 1      150.00   \n",
      "185885 259297.00  Lightning Charging Cable                 1       14.95   \n",
      "185886 259297.00  Lightning Charging Cable                 1       14.95   \n",
      "\n",
      "                Order Date                           Purchase Address  \n",
      "871    2019-01-17 23:02:00               131 2nd St, Boston, MA 02215  \n",
      "872    2019-01-17 23:02:00               131 2nd St, Boston, MA 02215  \n",
      "4105   2019-01-06 03:01:00  182 Jefferson St, San Francisco, CA 94016  \n",
      "4106   2019-01-06 03:01:00  182 Jefferson St, San Francisco, CA 94016  \n",
      "5784   2019-01-21 11:23:00   918 Highland St, New York City, NY 10001  \n",
      "...                    ...                                        ...  \n",
      "185613                 NaT       327 Lake St, San Francisco, CA 94016  \n",
      "185882                 NaT               894 6th St, Dallas, TX 75001  \n",
      "185883                 NaT               894 6th St, Dallas, TX 75001  \n",
      "185885                 NaT              138 Main St, Boston, MA 02215  \n",
      "185886                 NaT              138 Main St, Boston, MA 02215  \n",
      "\n",
      "[528 rows x 6 columns]\n",
      "Number of duplicate rows based on 'Order ID' and 'Order Date': 14649\n",
      "Duplicate Rows Based on 'Order ID' and 'Order Date':\n"
     ]
    },
    {
     "data": {
      "text/html": [
       "<div>\n",
       "<style scoped>\n",
       "    .dataframe tbody tr th:only-of-type {\n",
       "        vertical-align: middle;\n",
       "    }\n",
       "\n",
       "    .dataframe tbody tr th {\n",
       "        vertical-align: top;\n",
       "    }\n",
       "\n",
       "    .dataframe thead th {\n",
       "        text-align: right;\n",
       "    }\n",
       "</style>\n",
       "<table border=\"1\" class=\"dataframe\">\n",
       "  <thead>\n",
       "    <tr style=\"text-align: right;\">\n",
       "      <th></th>\n",
       "      <th>Order ID</th>\n",
       "      <th>Product</th>\n",
       "      <th>Quantity Ordered</th>\n",
       "      <th>Price Each</th>\n",
       "      <th>Order Date</th>\n",
       "      <th>Purchase Address</th>\n",
       "    </tr>\n",
       "  </thead>\n",
       "  <tbody>\n",
       "    <tr>\n",
       "      <th>41</th>\n",
       "      <td>141275</td>\n",
       "      <td>USB-C Charging Cable</td>\n",
       "      <td>1</td>\n",
       "      <td>11.95</td>\n",
       "      <td>2019-01-07 16:06:00</td>\n",
       "      <td>610 Walnut St, Austin, TX 73301</td>\n",
       "    </tr>\n",
       "    <tr>\n",
       "      <th>42</th>\n",
       "      <td>141275</td>\n",
       "      <td>Wired Headphones</td>\n",
       "      <td>1</td>\n",
       "      <td>11.99</td>\n",
       "      <td>2019-01-07 16:06:00</td>\n",
       "      <td>610 Walnut St, Austin, TX 73301</td>\n",
       "    </tr>\n",
       "    <tr>\n",
       "      <th>57</th>\n",
       "      <td>141290</td>\n",
       "      <td>Apple Airpods Headphones</td>\n",
       "      <td>1</td>\n",
       "      <td>150.00</td>\n",
       "      <td>2019-01-02 08:25:00</td>\n",
       "      <td>4 1st St, Los Angeles, CA 90001</td>\n",
       "    </tr>\n",
       "    <tr>\n",
       "      <th>58</th>\n",
       "      <td>141290</td>\n",
       "      <td>AA Batteries (4-pack)</td>\n",
       "      <td>3</td>\n",
       "      <td>3.84</td>\n",
       "      <td>2019-01-02 08:25:00</td>\n",
       "      <td>4 1st St, Los Angeles, CA 90001</td>\n",
       "    </tr>\n",
       "    <tr>\n",
       "      <th>133</th>\n",
       "      <td>141365</td>\n",
       "      <td>Vareebadd Phone</td>\n",
       "      <td>1</td>\n",
       "      <td>400.00</td>\n",
       "      <td>2019-01-10 11:19:00</td>\n",
       "      <td>20 Dogwood St, New York City, NY 10001</td>\n",
       "    </tr>\n",
       "    <tr>\n",
       "      <th>...</th>\n",
       "      <td>...</td>\n",
       "      <td>...</td>\n",
       "      <td>...</td>\n",
       "      <td>...</td>\n",
       "      <td>...</td>\n",
       "      <td>...</td>\n",
       "    </tr>\n",
       "    <tr>\n",
       "      <th>185893</th>\n",
       "      <td>259303.00</td>\n",
       "      <td>AA Batteries (4-pack)</td>\n",
       "      <td>1</td>\n",
       "      <td>3.84</td>\n",
       "      <td>NaT</td>\n",
       "      <td>106 7th St, Atlanta, GA 30301</td>\n",
       "    </tr>\n",
       "    <tr>\n",
       "      <th>185904</th>\n",
       "      <td>259314.00</td>\n",
       "      <td>Wired Headphones</td>\n",
       "      <td>1</td>\n",
       "      <td>11.99</td>\n",
       "      <td>NaT</td>\n",
       "      <td>241 Highland St, Atlanta, GA 30301</td>\n",
       "    </tr>\n",
       "    <tr>\n",
       "      <th>185905</th>\n",
       "      <td>259314.00</td>\n",
       "      <td>AAA Batteries (4-pack)</td>\n",
       "      <td>2</td>\n",
       "      <td>2.99</td>\n",
       "      <td>NaT</td>\n",
       "      <td>241 Highland St, Atlanta, GA 30301</td>\n",
       "    </tr>\n",
       "    <tr>\n",
       "      <th>185941</th>\n",
       "      <td>259350.00</td>\n",
       "      <td>Google Phone</td>\n",
       "      <td>1</td>\n",
       "      <td>600.00</td>\n",
       "      <td>NaT</td>\n",
       "      <td>519 Maple St, San Francisco, CA 94016</td>\n",
       "    </tr>\n",
       "    <tr>\n",
       "      <th>185942</th>\n",
       "      <td>259350.00</td>\n",
       "      <td>USB-C Charging Cable</td>\n",
       "      <td>1</td>\n",
       "      <td>11.95</td>\n",
       "      <td>NaT</td>\n",
       "      <td>519 Maple St, San Francisco, CA 94016</td>\n",
       "    </tr>\n",
       "  </tbody>\n",
       "</table>\n",
       "<p>14649 rows × 6 columns</p>\n",
       "</div>"
      ],
      "text/plain": [
       "        Order ID                   Product  Quantity Ordered  Price Each  \\\n",
       "41        141275      USB-C Charging Cable                 1       11.95   \n",
       "42        141275          Wired Headphones                 1       11.99   \n",
       "57        141290  Apple Airpods Headphones                 1      150.00   \n",
       "58        141290     AA Batteries (4-pack)                 3        3.84   \n",
       "133       141365           Vareebadd Phone                 1      400.00   \n",
       "...          ...                       ...               ...         ...   \n",
       "185893 259303.00     AA Batteries (4-pack)                 1        3.84   \n",
       "185904 259314.00          Wired Headphones                 1       11.99   \n",
       "185905 259314.00    AAA Batteries (4-pack)                 2        2.99   \n",
       "185941 259350.00              Google Phone                 1      600.00   \n",
       "185942 259350.00      USB-C Charging Cable                 1       11.95   \n",
       "\n",
       "                Order Date                        Purchase Address  \n",
       "41     2019-01-07 16:06:00         610 Walnut St, Austin, TX 73301  \n",
       "42     2019-01-07 16:06:00         610 Walnut St, Austin, TX 73301  \n",
       "57     2019-01-02 08:25:00         4 1st St, Los Angeles, CA 90001  \n",
       "58     2019-01-02 08:25:00         4 1st St, Los Angeles, CA 90001  \n",
       "133    2019-01-10 11:19:00  20 Dogwood St, New York City, NY 10001  \n",
       "...                    ...                                     ...  \n",
       "185893                 NaT           106 7th St, Atlanta, GA 30301  \n",
       "185904                 NaT      241 Highland St, Atlanta, GA 30301  \n",
       "185905                 NaT      241 Highland St, Atlanta, GA 30301  \n",
       "185941                 NaT   519 Maple St, San Francisco, CA 94016  \n",
       "185942                 NaT   519 Maple St, San Francisco, CA 94016  \n",
       "\n",
       "[14649 rows x 6 columns]"
      ]
     },
     "execution_count": 42,
     "metadata": {},
     "output_type": "execute_result"
    }
   ],
   "source": [
    "# Identify duplicate rows\n",
    "duplicates = combined_data_cleaned[combined_data_cleaned.duplicated(keep=False)]\n",
    "print(f\"Number of duplicate rows: {len(duplicates)}\")\n",
    "print(\"Duplicate Rows:\")\n",
    "print(duplicates)\n",
    "\n",
    "# Identify duplicates based on specific columns\n",
    "duplicate_rows_based_on_columns = combined_data_cleaned[combined_data_cleaned.duplicated(subset=['Order ID', 'Order Date'], keep=False)]\n",
    "print(f\"Number of duplicate rows based on 'Order ID' and 'Order Date': {len(duplicate_rows_based_on_columns)}\")\n",
    "print(\"Duplicate Rows Based on 'Order ID' and 'Order Date':\")\n",
    "duplicate_rows_based_on_columns"
   ]
  },
  {
   "cell_type": "markdown",
   "metadata": {},
   "source": [
    "#### Drop identically duplicate rows "
   ]
  },
  {
   "cell_type": "code",
   "execution_count": 43,
   "metadata": {},
   "outputs": [
    {
     "name": "stdout",
     "output_type": "stream",
     "text": [
      "Number of rows after removing exact duplicates: 185686\n"
     ]
    }
   ],
   "source": [
    "# Remove rows where all values across columns are identical, keeping only the first occurrence\n",
    "combined_data_cleaned_no_duplicates = combined_data_cleaned.drop_duplicates(keep='first')\n",
    "\n",
    "# Verify the number of rows after removing duplicates\n",
    "print(f\"Number of rows after removing exact duplicates: {len(combined_data_cleaned_no_duplicates)}\")"
   ]
  },
  {
   "cell_type": "code",
   "execution_count": 44,
   "metadata": {},
   "outputs": [],
   "source": [
    "# Create a copy of combined_data_cleaned\n",
    "df = combined_data_cleaned.copy()"
   ]
  },
  {
   "cell_type": "markdown",
   "metadata": {},
   "source": [
    "### `Feature Imputation`"
   ]
  },
  {
   "cell_type": "markdown",
   "metadata": {},
   "source": [
    "#### Mapping items to form Categories"
   ]
  },
  {
   "cell_type": "code",
   "execution_count": 45,
   "metadata": {},
   "outputs": [],
   "source": [
    "mapping = {\n",
    "    'USB-C Charging Cable': 'Charging Cables',\n",
    "    'Lightning Charging Cable': 'Charging Cables',\n",
    "    'AAA Batteries (4-pack)': 'Batteries',\n",
    "    'AA Batteries (4-pack)': 'Batteries',\n",
    "    'Wired Headphones': 'Headphones',\n",
    "    'Apple Airpods Headphones': 'Headphones',\n",
    "    'Bose SoundSport Headphones': 'Headphones',\n",
    "    '27in FHD Monitor': 'Monitors',\n",
    "    '27in 4K Gaming Monitor': 'Monitors',\n",
    "    '34in Ultrawide Monitor': 'Monitors',\n",
    "    '20in Monitor': 'Monitors',\n",
    "    'iPhone': 'Mobile Phones',\n",
    "    'Google Phone': 'Mobile Phones',\n",
    "    'Vareebadd Phone': 'Mobile Phones',\n",
    "    'Flatscreen TV': 'Televisions',\n",
    "    'Macbook Pro Laptop': 'Laptops',\n",
    "    'ThinkPad Laptop': 'Laptops',\n",
    "    'LG Washing Machine': 'Home Appliances',\n",
    "    'LG Dryer': 'Home Appliances'\n",
    "}"
   ]
  },
  {
   "cell_type": "code",
   "execution_count": 46,
   "metadata": {},
   "outputs": [],
   "source": [
    "df['Category'] = df['Product'].map(mapping)"
   ]
  },
  {
   "cell_type": "markdown",
   "metadata": {},
   "source": [
    "#### Mapping by item value"
   ]
  },
  {
   "cell_type": "code",
   "execution_count": 47,
   "metadata": {},
   "outputs": [],
   "source": [
    "df['Level'] = np.where(df['Price Each'] > 99, 'High level', 'Basic level')"
   ]
  },
  {
   "cell_type": "code",
   "execution_count": 48,
   "metadata": {},
   "outputs": [],
   "source": [
    "df['Total Sales'] = df['Price Each']*df['Quantity Ordered']"
   ]
  },
  {
   "cell_type": "code",
   "execution_count": 49,
   "metadata": {},
   "outputs": [
    {
     "data": {
      "text/html": [
       "<div>\n",
       "<style scoped>\n",
       "    .dataframe tbody tr th:only-of-type {\n",
       "        vertical-align: middle;\n",
       "    }\n",
       "\n",
       "    .dataframe tbody tr th {\n",
       "        vertical-align: top;\n",
       "    }\n",
       "\n",
       "    .dataframe thead th {\n",
       "        text-align: right;\n",
       "    }\n",
       "</style>\n",
       "<table border=\"1\" class=\"dataframe\">\n",
       "  <thead>\n",
       "    <tr style=\"text-align: right;\">\n",
       "      <th></th>\n",
       "      <th>Order ID</th>\n",
       "      <th>Product</th>\n",
       "      <th>Quantity Ordered</th>\n",
       "      <th>Price Each</th>\n",
       "      <th>Order Date</th>\n",
       "      <th>Purchase Address</th>\n",
       "      <th>Category</th>\n",
       "      <th>Level</th>\n",
       "      <th>Total Sales</th>\n",
       "    </tr>\n",
       "  </thead>\n",
       "  <tbody>\n",
       "    <tr>\n",
       "      <th>0</th>\n",
       "      <td>141234</td>\n",
       "      <td>iPhone</td>\n",
       "      <td>1</td>\n",
       "      <td>700.00</td>\n",
       "      <td>2019-01-22 21:25:00</td>\n",
       "      <td>944 Walnut St, Boston, MA 02215</td>\n",
       "      <td>Mobile Phones</td>\n",
       "      <td>High level</td>\n",
       "      <td>700.00</td>\n",
       "    </tr>\n",
       "    <tr>\n",
       "      <th>1</th>\n",
       "      <td>141235</td>\n",
       "      <td>Lightning Charging Cable</td>\n",
       "      <td>1</td>\n",
       "      <td>14.95</td>\n",
       "      <td>2019-01-28 14:15:00</td>\n",
       "      <td>185 Maple St, Portland, OR 97035</td>\n",
       "      <td>Charging Cables</td>\n",
       "      <td>Basic level</td>\n",
       "      <td>14.95</td>\n",
       "    </tr>\n",
       "    <tr>\n",
       "      <th>2</th>\n",
       "      <td>141236</td>\n",
       "      <td>Wired Headphones</td>\n",
       "      <td>2</td>\n",
       "      <td>11.99</td>\n",
       "      <td>2019-01-17 13:33:00</td>\n",
       "      <td>538 Adams St, San Francisco, CA 94016</td>\n",
       "      <td>Headphones</td>\n",
       "      <td>Basic level</td>\n",
       "      <td>23.98</td>\n",
       "    </tr>\n",
       "    <tr>\n",
       "      <th>3</th>\n",
       "      <td>141237</td>\n",
       "      <td>27in FHD Monitor</td>\n",
       "      <td>1</td>\n",
       "      <td>149.99</td>\n",
       "      <td>2019-01-05 20:33:00</td>\n",
       "      <td>738 10th St, Los Angeles, CA 90001</td>\n",
       "      <td>Monitors</td>\n",
       "      <td>High level</td>\n",
       "      <td>149.99</td>\n",
       "    </tr>\n",
       "    <tr>\n",
       "      <th>4</th>\n",
       "      <td>141238</td>\n",
       "      <td>Wired Headphones</td>\n",
       "      <td>1</td>\n",
       "      <td>11.99</td>\n",
       "      <td>2019-01-25 11:59:00</td>\n",
       "      <td>387 10th St, Austin, TX 73301</td>\n",
       "      <td>Headphones</td>\n",
       "      <td>Basic level</td>\n",
       "      <td>11.99</td>\n",
       "    </tr>\n",
       "  </tbody>\n",
       "</table>\n",
       "</div>"
      ],
      "text/plain": [
       "  Order ID                   Product  Quantity Ordered  Price Each  \\\n",
       "0   141234                    iPhone                 1      700.00   \n",
       "1   141235  Lightning Charging Cable                 1       14.95   \n",
       "2   141236          Wired Headphones                 2       11.99   \n",
       "3   141237          27in FHD Monitor                 1      149.99   \n",
       "4   141238          Wired Headphones                 1       11.99   \n",
       "\n",
       "           Order Date                       Purchase Address         Category  \\\n",
       "0 2019-01-22 21:25:00        944 Walnut St, Boston, MA 02215    Mobile Phones   \n",
       "1 2019-01-28 14:15:00       185 Maple St, Portland, OR 97035  Charging Cables   \n",
       "2 2019-01-17 13:33:00  538 Adams St, San Francisco, CA 94016       Headphones   \n",
       "3 2019-01-05 20:33:00     738 10th St, Los Angeles, CA 90001         Monitors   \n",
       "4 2019-01-25 11:59:00          387 10th St, Austin, TX 73301       Headphones   \n",
       "\n",
       "         Level  Total Sales  \n",
       "0   High level       700.00  \n",
       "1  Basic level        14.95  \n",
       "2  Basic level        23.98  \n",
       "3   High level       149.99  \n",
       "4  Basic level        11.99  "
      ]
     },
     "execution_count": 49,
     "metadata": {},
     "output_type": "execute_result"
    }
   ],
   "source": [
    "df.head()"
   ]
  },
  {
   "cell_type": "code",
   "execution_count": 52,
   "metadata": {},
   "outputs": [],
   "source": [
    "combined_data_cleaned = df.copy()"
   ]
  },
  {
   "cell_type": "markdown",
   "metadata": {},
   "source": [
    "### `Exploratory Data Analysis`"
   ]
  },
  {
   "cell_type": "markdown",
   "metadata": {},
   "source": [
    "### 1. <i>Univariate Analysis</i>\n",
    "- Univariate analysis focuses on the distribution of individual variables. It helps to understand the basic characteristics of each variable.\n",
    "\n",
    "#### a. Order ID\n",
    "- **Description:** This is a unique identifier for each order.\n",
    "- **Analysis:** Check for duplicates or missing values."
   ]
  },
  {
   "cell_type": "code",
   "execution_count": 53,
   "metadata": {},
   "outputs": [
    {
     "data": {
      "image/png": "[encoded data removed]",
      "text/plain": [
       "<Figure size 600x300 with 1 Axes>"
      ]
     },
     "metadata": {},
     "output_type": "display_data"
    },
    {
     "data": {
      "image/png": "[encoded data removed]",
      "text/plain": [
       "<Figure size 600x300 with 1 Axes>"
      ]
     },
     "metadata": {},
     "output_type": "display_data"
    }
   ],
   "source": [
    "# List of analysis types\n",
    "analysis_types = ['missing_values', 'duplicates']\n",
    "\n",
    "for analysis in analysis_types:\n",
    "    if analysis == 'missing_values':\n",
    "        # Missing Values Heatmap\n",
    "        plt.figure(figsize=(6, 3))  # Reduced size\n",
    "        sns.heatmap(combined_data_cleaned.isnull(), cbar=False, cmap='viridis', yticklabels=False)\n",
    "        plt.title('Missing Values Heatmap')\n",
    "        plt.show()\n",
    "        \n",
    "       \n",
    "    \n",
    "    elif analysis == 'duplicates':\n",
    "        # Duplicates Heatmap\n",
    "        duplicates = combined_data_cleaned.duplicated(keep=False)\n",
    "        plt.figure(figsize=(6, 3))  # Reduced size\n",
    "        sns.heatmap(duplicates.values.reshape(-1, 1), cbar=False, cmap='coolwarm', yticklabels=False)\n",
    "        plt.title('Duplicates Heatmap')\n",
    "        plt.show()"
   ]
  },
  {
   "cell_type": "markdown",
   "metadata": {},
   "source": [
    "### b. Product\n",
    "- **Description:** The type of product sold.\n",
    "- **Analysis:** Frequency distribution of each product.\n",
    "- **Visualization:** Bar plot of product counts."
   ]
  },
  {
   "cell_type": "code",
   "execution_count": 51,
   "metadata": {},
   "outputs": [
    {
     "ename": "KeyError",
     "evalue": "'Category'",
     "output_type": "error",
     "traceback": [
      "\u001b[1;31m---------------------------------------------------------------------------\u001b[0m",
      "\u001b[1;31mKeyError\u001b[0m                                  Traceback (most recent call last)",
      "File \u001b[1;32mc:\\Documents\\Gloria\\Analytics\\GithbubProjects\\A-Power-BI-Dashboard-Project\\venv\\Lib\\site-packages\\pandas\\core\\indexes\\base.py:3805\u001b[0m, in \u001b[0;36mIndex.get_loc\u001b[1;34m(self, key)\u001b[0m\n\u001b[0;32m   3804\u001b[0m \u001b[38;5;28;01mtry\u001b[39;00m:\n\u001b[1;32m-> 3805\u001b[0m     \u001b[38;5;28;01mreturn\u001b[39;00m \u001b[38;5;28;43mself\u001b[39;49m\u001b[38;5;241;43m.\u001b[39;49m\u001b[43m_engine\u001b[49m\u001b[38;5;241;43m.\u001b[39;49m\u001b[43mget_loc\u001b[49m\u001b[43m(\u001b[49m\u001b[43mcasted_key\u001b[49m\u001b[43m)\u001b[49m\n\u001b[0;32m   3806\u001b[0m \u001b[38;5;28;01mexcept\u001b[39;00m \u001b[38;5;167;01mKeyError\u001b[39;00m \u001b[38;5;28;01mas\u001b[39;00m err:\n",
      "File \u001b[1;32mindex.pyx:167\u001b[0m, in \u001b[0;36mpandas._libs.index.IndexEngine.get_loc\u001b[1;34m()\u001b[0m\n",
      "File \u001b[1;32mindex.pyx:196\u001b[0m, in \u001b[0;36mpandas._libs.index.IndexEngine.get_loc\u001b[1;34m()\u001b[0m\n",
      "File \u001b[1;32mpandas\\\\_libs\\\\hashtable_class_helper.pxi:7081\u001b[0m, in \u001b[0;36mpandas._libs.hashtable.PyObjectHashTable.get_item\u001b[1;34m()\u001b[0m\n",
      "File \u001b[1;32mpandas\\\\_libs\\\\hashtable_class_helper.pxi:7089\u001b[0m, in \u001b[0;36mpandas._libs.hashtable.PyObjectHashTable.get_item\u001b[1;34m()\u001b[0m\n",
      "\u001b[1;31mKeyError\u001b[0m: 'Category'",
      "\nThe above exception was the direct cause of the following exception:\n",
      "\u001b[1;31mKeyError\u001b[0m                                  Traceback (most recent call last)",
      "Cell \u001b[1;32mIn[51], line 2\u001b[0m\n\u001b[0;32m      1\u001b[0m \u001b[38;5;66;03m# Calculate the frequency distribution of each product\u001b[39;00m\n\u001b[1;32m----> 2\u001b[0m product_counts \u001b[38;5;241m=\u001b[39m \u001b[43mcombined_data_cleaned\u001b[49m\u001b[43m[\u001b[49m\u001b[38;5;124;43m'\u001b[39;49m\u001b[38;5;124;43mCategory\u001b[39;49m\u001b[38;5;124;43m'\u001b[39;49m\u001b[43m]\u001b[49m\u001b[38;5;241m.\u001b[39mvalue_counts()\n\u001b[0;32m      4\u001b[0m \u001b[38;5;66;03m# Plot\u001b[39;00m\n\u001b[0;32m      5\u001b[0m plt\u001b[38;5;241m.\u001b[39mfigure(figsize\u001b[38;5;241m=\u001b[39m(\u001b[38;5;241m12\u001b[39m, \u001b[38;5;241m8\u001b[39m))\n",
      "File \u001b[1;32mc:\\Documents\\Gloria\\Analytics\\GithbubProjects\\A-Power-BI-Dashboard-Project\\venv\\Lib\\site-packages\\pandas\\core\\frame.py:4102\u001b[0m, in \u001b[0;36mDataFrame.__getitem__\u001b[1;34m(self, key)\u001b[0m\n\u001b[0;32m   4100\u001b[0m \u001b[38;5;28;01mif\u001b[39;00m \u001b[38;5;28mself\u001b[39m\u001b[38;5;241m.\u001b[39mcolumns\u001b[38;5;241m.\u001b[39mnlevels \u001b[38;5;241m>\u001b[39m \u001b[38;5;241m1\u001b[39m:\n\u001b[0;32m   4101\u001b[0m     \u001b[38;5;28;01mreturn\u001b[39;00m \u001b[38;5;28mself\u001b[39m\u001b[38;5;241m.\u001b[39m_getitem_multilevel(key)\n\u001b[1;32m-> 4102\u001b[0m indexer \u001b[38;5;241m=\u001b[39m \u001b[38;5;28;43mself\u001b[39;49m\u001b[38;5;241;43m.\u001b[39;49m\u001b[43mcolumns\u001b[49m\u001b[38;5;241;43m.\u001b[39;49m\u001b[43mget_loc\u001b[49m\u001b[43m(\u001b[49m\u001b[43mkey\u001b[49m\u001b[43m)\u001b[49m\n\u001b[0;32m   4103\u001b[0m \u001b[38;5;28;01mif\u001b[39;00m is_integer(indexer):\n\u001b[0;32m   4104\u001b[0m     indexer \u001b[38;5;241m=\u001b[39m [indexer]\n",
      "File \u001b[1;32mc:\\Documents\\Gloria\\Analytics\\GithbubProjects\\A-Power-BI-Dashboard-Project\\venv\\Lib\\site-packages\\pandas\\core\\indexes\\base.py:3812\u001b[0m, in \u001b[0;36mIndex.get_loc\u001b[1;34m(self, key)\u001b[0m\n\u001b[0;32m   3807\u001b[0m     \u001b[38;5;28;01mif\u001b[39;00m \u001b[38;5;28misinstance\u001b[39m(casted_key, \u001b[38;5;28mslice\u001b[39m) \u001b[38;5;129;01mor\u001b[39;00m (\n\u001b[0;32m   3808\u001b[0m         \u001b[38;5;28misinstance\u001b[39m(casted_key, abc\u001b[38;5;241m.\u001b[39mIterable)\n\u001b[0;32m   3809\u001b[0m         \u001b[38;5;129;01mand\u001b[39;00m \u001b[38;5;28many\u001b[39m(\u001b[38;5;28misinstance\u001b[39m(x, \u001b[38;5;28mslice\u001b[39m) \u001b[38;5;28;01mfor\u001b[39;00m x \u001b[38;5;129;01min\u001b[39;00m casted_key)\n\u001b[0;32m   3810\u001b[0m     ):\n\u001b[0;32m   3811\u001b[0m         \u001b[38;5;28;01mraise\u001b[39;00m InvalidIndexError(key)\n\u001b[1;32m-> 3812\u001b[0m     \u001b[38;5;28;01mraise\u001b[39;00m \u001b[38;5;167;01mKeyError\u001b[39;00m(key) \u001b[38;5;28;01mfrom\u001b[39;00m \u001b[38;5;21;01merr\u001b[39;00m\n\u001b[0;32m   3813\u001b[0m \u001b[38;5;28;01mexcept\u001b[39;00m \u001b[38;5;167;01mTypeError\u001b[39;00m:\n\u001b[0;32m   3814\u001b[0m     \u001b[38;5;66;03m# If we have a listlike key, _check_indexing_error will raise\u001b[39;00m\n\u001b[0;32m   3815\u001b[0m     \u001b[38;5;66;03m#  InvalidIndexError. Otherwise we fall through and re-raise\u001b[39;00m\n\u001b[0;32m   3816\u001b[0m     \u001b[38;5;66;03m#  the TypeError.\u001b[39;00m\n\u001b[0;32m   3817\u001b[0m     \u001b[38;5;28mself\u001b[39m\u001b[38;5;241m.\u001b[39m_check_indexing_error(key)\n",
      "\u001b[1;31mKeyError\u001b[0m: 'Category'"
     ]
    }
   ],
   "source": [
    "# Calculate the frequency distribution of each product\n",
    "product_counts = combined_data_cleaned['Category'].value_counts()\n",
    "\n",
    "# Plot\n",
    "plt.figure(figsize=(12, 8))\n",
    "product_counts.plot(kind='bar', color='skyblue')\n",
    "\n",
    "# Add titles and labels\n",
    "plt.title('Frequency Distribution of Each Product')\n",
    "plt.xlabel('Category')\n",
    "plt.ylabel('Frequency')\n",
    "plt.xticks(rotation=45, ha='right')  # Rotate x-axis labels for better readability\n",
    "\n",
    "# Show plot\n",
    "plt.tight_layout()\n",
    "plt.show()"
   ]
  },
  {
   "cell_type": "markdown",
   "metadata": {},
   "source": [
    "### c. Quantity Ordered\n",
    "- **Description:** The quantity of each product ordered.\n",
    "- **Analysis:** Summary statistics (mean, median, mode, standard deviation).\n",
    "Distribution of quantities.\n",
    "- **Visualization:** Histogram of quantities ordered."
   ]
  },
  {
   "cell_type": "code",
   "execution_count": null,
   "metadata": {},
   "outputs": [
    {
     "name": "stdout",
     "output_type": "stream",
     "text": [
      "Mean Quantity Ordered: 1.1243828986286637\n",
      "Median Quantity Ordered: 1.0\n",
      "Mode Quantity Ordered: 1\n",
      "Standard Deviation of Quantity Ordered: 0.4427926240286697\n"
     ]
    },
    {
     "data": {
      "image/png": "[encoded data removed]",
      "text/plain": [
       "<Figure size 1200x800 with 1 Axes>"
      ]
     },
     "metadata": {},
     "output_type": "display_data"
    }
   ],
   "source": [
    "# Calculate summary statistics\n",
    "quantity_stats = combined_data_cleaned['Quantity Ordered'].astype(int).describe()\n",
    "mean_quantity = quantity_stats['mean']\n",
    "median_quantity = combined_data_cleaned['Quantity Ordered'].astype(int).median()\n",
    "mode_quantity = combined_data_cleaned['Quantity Ordered'].astype(int).mode()[0]\n",
    "std_dev_quantity = quantity_stats['std']\n",
    "\n",
    "# Print summary statistics\n",
    "print(f\"Mean Quantity Ordered: {mean_quantity}\")\n",
    "print(f\"Median Quantity Ordered: {median_quantity}\")\n",
    "print(f\"Mode Quantity Ordered: {mode_quantity}\")\n",
    "print(f\"Standard Deviation of Quantity Ordered: {std_dev_quantity}\")\n",
    "\n",
    "# Plot Histogram\n",
    "plt.figure(figsize=(12, 8))\n",
    "plt.hist(combined_data_cleaned['Quantity Ordered'].astype(int), bins=30, color='lightcoral', edgecolor='black')\n",
    "\n",
    "# Add titles and labels\n",
    "plt.title('Histogram of Quantities Ordered')\n",
    "plt.xlabel('Quantity Ordered')\n",
    "plt.ylabel('Frequency')\n",
    "\n",
    "# Show plot\n",
    "plt.tight_layout()\n",
    "plt.show()"
   ]
  },
  {
   "cell_type": "markdown",
   "metadata": {},
   "source": [
    "### d. Price Each\n",
    "- **Description:** The price of a single unit of the product.\n",
    "-**Analysis:** Summary statistics (mean, median, mode, standard deviation).\n",
    "Distribution of prices.\n",
    "- **Visualization:** Histogram and box plot of prices."
   ]
  },
  {
   "cell_type": "code",
   "execution_count": null,
   "metadata": {},
   "outputs": [
    {
     "name": "stdout",
     "output_type": "stream",
     "text": [
      "Mean Price Each: 184.40\n",
      "Median Price Each: 14.95\n",
      "Mode Price Each: 150.00\n",
      "Standard Deviation of Price Each: 332.73\n"
     ]
    },
    {
     "data": {
      "image/png": "[encoded data removed]",
      "text/plain": [
       "<Figure size 1400x600 with 2 Axes>"
      ]
     },
     "metadata": {},
     "output_type": "display_data"
    }
   ],
   "source": [
    "# Calculate summary statistics\n",
    "price_stats = combined_data_cleaned['Price Each'].astype(float).describe()\n",
    "mean_price = price_stats['mean']\n",
    "median_price = combined_data_cleaned['Price Each'].astype(float).median()\n",
    "mode_price = combined_data_cleaned['Price Each'].astype(float).mode()[0]\n",
    "std_dev_price = price_stats['std']\n",
    "\n",
    "# Print summary statistics\n",
    "print(f\"Mean Price Each: {mean_price:.2f}\")\n",
    "print(f\"Median Price Each: {median_price:.2f}\")\n",
    "print(f\"Mode Price Each: {mode_price:.2f}\")\n",
    "print(f\"Standard Deviation of Price Each: {std_dev_price:.2f}\")\n",
    "\n",
    "# Plot Histogram\n",
    "plt.figure(figsize=(14, 6))\n",
    "\n",
    "plt.subplot(1, 2, 1)\n",
    "plt.hist(combined_data_cleaned['Price Each'].astype(float), bins=30, color='skyblue', edgecolor='black')\n",
    "plt.title('Histogram of Prices Each')\n",
    "plt.xlabel('Price Each')\n",
    "plt.ylabel('Frequency')\n",
    "\n",
    "# Plot Box Plot\n",
    "plt.subplot(1, 2, 2)\n",
    "sns.boxplot(x=combined_data_cleaned['Price Each'].astype(float), color='lightgreen')\n",
    "plt.title('Box Plot of Prices Each')\n",
    "plt.xlabel('Price Each')\n",
    "\n",
    "plt.tight_layout()\n",
    "plt.show()"
   ]
  },
  {
   "cell_type": "markdown",
   "metadata": {},
   "source": [
    "### e. Order Date\n",
    "- **Description:** The date and time when the order was placed.\n",
    "- **Analysis:**\n",
    "Summary of the dates (range, most frequent date).\n",
    "Trend analysis over time.\n",
    "- **Visualization:** Time series plot or line plot of the number of orders over time."
   ]
  },
  {
   "cell_type": "code",
   "execution_count": null,
   "metadata": {},
   "outputs": [
    {
     "name": "stdout",
     "output_type": "stream",
     "text": [
      "Date Range: 2019-01-01 to 2019-07-01\n",
      "Most Frequent Date: 2019-04-02\n",
      "Total Number of Orders: 185950\n"
     ]
    },
    {
     "data": {
      "image/png": "[encoded data removed]",
      "text/plain": [
       "<Figure size 1400x700 with 1 Axes>"
      ]
     },
     "metadata": {},
     "output_type": "display_data"
    }
   ],
   "source": [
    "# Ensure 'Order Date' is converted to datetime\n",
    "#combined_data_cleaned['Order Date'] = pd.to_datetime(combined_data_cleaned['Order Date'])\n",
    "\n",
    "# Summary statistics\n",
    "date_range = combined_data_cleaned['Order Date'].min(), combined_data_cleaned['Order Date'].max()\n",
    "most_frequent_date = combined_data_cleaned['Order Date'].mode()[0]\n",
    "total_orders = combined_data_cleaned.shape[0]\n",
    "\n",
    "print(f\"Date Range: {date_range[0].date()} to {date_range[1].date()}\")\n",
    "print(f\"Most Frequent Date: {most_frequent_date.date()}\")\n",
    "print(f\"Total Number of Orders: {total_orders}\")\n",
    "\n",
    "# Trend Analysis\n",
    "# Resample data to count the number of orders per day\n",
    "daily_orders = combined_data_cleaned.resample('D', on='Order Date').size()\n",
    "\n",
    "# Plot Time Series\n",
    "plt.figure(figsize=(14, 7))\n",
    "plt.plot(daily_orders.index, daily_orders.values, marker='o', linestyle='-', color='b')\n",
    "plt.title('Number of Orders Over Time')\n",
    "plt.xlabel('Date')\n",
    "plt.ylabel('Number of Orders')\n",
    "plt.grid(True)\n",
    "plt.xticks(rotation=45)\n",
    "plt.tight_layout()\n",
    "plt.show()"
   ]
  },
  {
   "cell_type": "markdown",
   "metadata": {},
   "source": [
    "### f. Purchase Address\n",
    "- **Description:** The address where the order was delivered.\n",
    "- **Analysis:** Frequency of orders by city or state.\n",
    "- **Visualization:** Bar plot of the number of orders by state."
   ]
  },
  {
   "cell_type": "code",
   "execution_count": null,
   "metadata": {},
   "outputs": [
    {
     "data": {
      "image/png": "[encoded data removed]",
      "text/plain": [
       "<Figure size 1200x800 with 1 Axes>"
      ]
     },
     "metadata": {},
     "output_type": "display_data"
    }
   ],
   "source": [
    "# Extract state information from 'Purchase Address'\n",
    "def extract_state(address):\n",
    "    return address.split(', ')[-2].split(' ')[-1]\n",
    "\n",
    "combined_data_cleaned['State'] = combined_data_cleaned['Purchase Address'].apply(extract_state)\n",
    "\n",
    "# Frequency Analysis\n",
    "state_counts = combined_data_cleaned['State'].value_counts()\n",
    "\n",
    "# Visualization\n",
    "plt.figure(figsize=(12, 8))\n",
    "sns.barplot(x=state_counts.index, y=state_counts.values, palette='viridis')\n",
    "plt.title('Number of Orders by State')\n",
    "plt.xlabel('State')\n",
    "plt.ylabel('Number of Orders')\n",
    "plt.xticks(rotation=45)\n",
    "plt.grid(axis='y')\n",
    "plt.tight_layout()\n",
    "plt.show()"
   ]
  },
  {
   "cell_type": "markdown",
   "metadata": {},
   "source": [
    "### 2. <i>Bivariate Analysis</i>\n",
    "- Bivariate analysis explores the relationship between two variables."
   ]
  },
  {
   "cell_type": "markdown",
   "metadata": {},
   "source": [
    "### a. Quantity Ordered vs. Price Each\n",
    "- **Analysis:** Scatter plot to see if there's a relationship between quantity and price.\n",
    "Correlation coefficient to measure the strength of the relationship."
   ]
  },
  {
   "cell_type": "code",
   "execution_count": null,
   "metadata": {},
   "outputs": [
    {
     "data": {
      "image/png": "[encoded data removed]",
      "text/plain": [
       "<Figure size 1000x600 with 1 Axes>"
      ]
     },
     "metadata": {},
     "output_type": "display_data"
    },
    {
     "name": "stdout",
     "output_type": "stream",
     "text": [
      "Correlation Coefficient between Quantity Ordered and Price Each: -0.15\n"
     ]
    }
   ],
   "source": [
    "# Convert 'Quantity Ordered' and 'Price Each' to numeric types\n",
    "combined_data_cleaned['Quantity Ordered'] = pd.to_numeric(combined_data_cleaned['Quantity Ordered'], errors='coerce')\n",
    "combined_data_cleaned['Price Each'] = pd.to_numeric(combined_data_cleaned['Price Each'], errors='coerce')\n",
    "\n",
    "# Drop rows with NaN values after conversion\n",
    "combined_data_cleaned = combined_data_cleaned.dropna(subset=['Quantity Ordered', 'Price Each'])\n",
    "\n",
    "# Scatter Plot\n",
    "plt.figure(figsize=(10, 6))\n",
    "sns.scatterplot(x='Quantity Ordered', y='Price Each', data=combined_data_cleaned, alpha=0.6)\n",
    "plt.title('Quantity Ordered vs. Price Each')\n",
    "plt.xlabel('Quantity Ordered')\n",
    "plt.ylabel('Price Each')\n",
    "plt.grid(True)\n",
    "plt.show()\n",
    "\n",
    "# Correlation Coefficient\n",
    "correlation = combined_data_cleaned[['Quantity Ordered', 'Price Each']].corr().iloc[0, 1]\n",
    "print(f'Correlation Coefficient between Quantity Ordered and Price Each: {correlation:.2f}')"
   ]
  },
  {
   "cell_type": "markdown",
   "metadata": {},
   "source": [
    "- This implies that quantity ordered reduces with increase in price"
   ]
  },
  {
   "cell_type": "markdown",
   "metadata": {},
   "source": [
    "### b. Product vs. Quantity Ordered\n",
    "- **Analysis:** Box plot or bar plot to compare the distribution of quantities ordered for each product."
   ]
  },
  {
   "cell_type": "code",
   "execution_count": null,
   "metadata": {},
   "outputs": [],
   "source": [
    "# Box Plot: Distribution of Quantity Ordered for Each Product\n",
    "plt.figure(figsize=(14, 7))\n",
    "sns.boxplot(x='Category', y='Quantity Ordered', data=combined_data_cleaned)\n",
    "plt.xticks(rotation=90)\n",
    "plt.title('Distribution of Quantity Ordered for Each Product')\n",
    "plt.xlabel('Category')\n",
    "plt.ylabel('Quantity Ordered')\n",
    "plt.grid(True)\n",
    "plt.show()\n",
    "\n",
    "# Bar Plot: Average Quantity Ordered for Each Product\n",
    "plt.figure(figsize=(14, 7))\n",
    "average_quantity = combined_data_cleaned.groupby('Category')['Quantity Ordered'].mean().sort_values()\n",
    "average_quantity.plot(kind='barh', color='skyblue')\n",
    "plt.title('Average Quantity Ordered for Each Category')\n",
    "plt.xlabel('Average Quantity Ordered')\n",
    "plt.ylabel('Category')\n",
    "plt.grid(True)\n",
    "plt.show()"
   ]
  },
  {
   "cell_type": "markdown",
   "metadata": {},
   "source": [
    "### c. Product vs. Price Each\n",
    "- **Analysis:** Box plot to compare the distribution of prices for each product."
   ]
  },
  {
   "cell_type": "code",
   "execution_count": null,
   "metadata": {},
   "outputs": [],
   "source": [
    "# Box Plot: Distribution of Price Each for Each Category\n",
    "plt.figure(figsize=(14, 7))\n",
    "sns.boxplot(x='Category', y='Price Each', data=combined_data_cleaned)\n",
    "plt.xticks(rotation=90)\n",
    "plt.title('Distribution of Price Each for Each Product category')\n",
    "plt.xlabel('Category')\n",
    "plt.ylabel('Price Each')\n",
    "plt.grid(True)\n",
    "plt.show()"
   ]
  },
  {
   "cell_type": "markdown",
   "metadata": {},
   "source": [
    "### d. Order Date vs. Quantity Ordered\n",
    "- **Analysis:** Time series analysis to see if there’s any trend in the quantity ordered over time.\n",
    "- **Visualization:** Line plot of total quantity ordered over time."
   ]
  },
  {
   "cell_type": "code",
   "execution_count": null,
   "metadata": {},
   "outputs": [],
   "source": [
    "# Ensure 'Order Date' is in datetime format\n",
    "combined_data_cleaned['Order Date'] = pd.to_datetime(combined_data_cleaned['Order Date'])\n",
    "\n",
    "# Aggregate quantity ordered by date\n",
    "quantity_over_time = combined_data_cleaned.groupby('Order Date')['Quantity Ordered'].sum().reset_index()\n",
    "\n",
    "# Line Plot: Total Quantity Ordered Over Time\n",
    "plt.figure(figsize=(14, 7))\n",
    "plt.plot(quantity_over_time['Order Date'], quantity_over_time['Quantity Ordered'], marker='o')\n",
    "plt.title('Total Quantity Ordered Over Time')\n",
    "plt.xlabel('Order Date')\n",
    "plt.ylabel('Total Quantity Ordered')\n",
    "plt.grid(True)\n",
    "plt.xticks(rotation=45)\n",
    "plt.tight_layout()\n",
    "plt.show()"
   ]
  },
  {
   "cell_type": "code",
   "execution_count": null,
   "metadata": {},
   "outputs": [],
   "source": [
    "# Group by 'Category' and 'Level' and count the number of orders\n",
    "category_level_counts = df.groupby(['Category', 'Level']).size().unstack().fillna(0)\n",
    "\n",
    "# Plot a heatmap to show the distribution\n",
    "plt.figure(figsize=(12, 8))\n",
    "sns.heatmap(category_level_counts, annot=True, fmt=\".0f\", cmap=\"YlGnBu\", linewidths=0.5)\n",
    "plt.title('Number of Orders by Category and Level')\n",
    "plt.xlabel('Level')\n",
    "plt.ylabel('Category')\n",
    "plt.xticks(rotation=45)\n",
    "plt.yticks(rotation=0)\n",
    "plt.show()\n",
    "\n",
    "\n",
    "# Aggregate sales and plot\n",
    "category_level_sales = df.groupby(['Category', 'Level'])['Total Sales'].sum().unstack().fillna(0)\n",
    "\n",
    "# Plot bar plot\n",
    "category_level_sales.plot(kind='bar', figsize=(12, 8))\n",
    "plt.title('Total Sales by Category and Level')\n",
    "plt.xlabel('Category')\n",
    "plt.ylabel('Total Sales')\n",
    "plt.xticks(rotation=45)\n",
    "plt.legend(title='Level')\n",
    "plt.show()"
   ]
  },
  {
   "cell_type": "code",
   "execution_count": null,
   "metadata": {},
   "outputs": [],
   "source": [
    "# Extract state information from 'Purchase Address'\n",
    "df['State'] = df['Purchase Address'].str.split(',').str[-2].str.strip()\n",
    "\n",
    "# Check the updated DataFrame\n",
    "print(df.head())"
   ]
  },
  {
   "cell_type": "code",
   "execution_count": null,
   "metadata": {},
   "outputs": [],
   "source": [
    "# Group by 'Category' and 'State' and count the number of orders\n",
    "category_state_counts = df.groupby(['Category', 'State']).size().unstack().fillna(0)\n",
    "\n",
    "# Plot a heatmap to show the distribution\n",
    "plt.figure(figsize=(12, 8))\n",
    "sns.heatmap(category_state_counts, annot=True, fmt=\"d\", cmap=\"YlGnBu\", linewidths=0.5)\n",
    "plt.title('Number of Orders by Category and State')\n",
    "plt.xlabel('State')\n",
    "plt.ylabel('Category')\n",
    "plt.xticks(rotation=45)\n",
    "plt.yticks(rotation=0)\n",
    "plt.show()\n",
    "\n",
    "# Alternatively, if you prefer a bar plot, you can plot the counts\n",
    "plt.figure(figsize=(12, 8))\n",
    "category_state_counts.plot(kind='bar', stacked=True)\n",
    "plt.title('Number of Orders by Category and State')\n",
    "plt.xlabel('Category')\n",
    "plt.ylabel('Number of Orders')\n",
    "plt.xticks(rotation=45)\n",
    "plt.legend(title='State')\n",
    "plt.show()"
   ]
  },
  {
   "cell_type": "code",
   "execution_count": null,
   "metadata": {},
   "outputs": [],
   "source": [
    "# Group by 'State' and 'Category' and sum the total sales\n",
    "state_category_sales = df.groupby(['State', 'Category'])['Total Sales'].sum().unstack().fillna(0)\n",
    "\n",
    "# Sort the DataFrame by state\n",
    "state_category_sales = state_category_sales.sort_index()\n",
    "\n",
    "# Plot the bar plot\n",
    "plt.figure(figsize=(14, 8))\n",
    "state_category_sales.plot(kind='bar', stacked=True, figsize=(14, 8))\n",
    "plt.title('Total Sales by Category Ordered by State')\n",
    "plt.xlabel('State')\n",
    "plt.ylabel('Total Sales')\n",
    "plt.xticks(rotation=45)\n",
    "plt.legend(title='Category', bbox_to_anchor=(1.05, 1), loc='upper left')\n",
    "plt.tight_layout()\n",
    "plt.show()"
   ]
  },
  {
   "cell_type": "code",
   "execution_count": null,
   "metadata": {},
   "outputs": [],
   "source": [
    "# Calculate total sales by category\n",
    "category_sales = df.groupby('Category')['Total Sales'].sum().sort_values(ascending=False)\n",
    "\n",
    "# Plot the total sales by category\n",
    "plt.figure(figsize=(12, 8))\n",
    "sns.barplot(x=category_sales.index, y=category_sales.values, palette='viridis')\n",
    "plt.title('Total Sales by Category')\n",
    "plt.xlabel('Category')\n",
    "plt.ylabel('Total Sales')\n",
    "plt.xticks(rotation=45)\n",
    "plt.show()\n",
    "\n",
    "# Optional: If you want to see the distribution of sales by category in more detail\n",
    "plt.figure(figsize=(12, 8))\n",
    "sns.boxplot(x='Category', y='Total Sales', data=df, palette='viridis')\n",
    "plt.title('Distribution of Sales by Category')\n",
    "plt.xlabel('Category')\n",
    "plt.ylabel('Total Sales')\n",
    "plt.xticks(rotation=45)\n",
    "plt.show()"
   ]
  }
 ],
 "metadata": {
  "kernelspec": {
   "display_name": "venv",
   "language": "python",
   "name": "python3"
  },
  "language_info": {
   "codemirror_mode": {
    "name": "ipython",
    "version": 3
   },
   "file_extension": ".py",
   "mimetype": "text/x-python",
   "name": "python",
   "nbconvert_exporter": "python",
   "pygments_lexer": "ipython3",
   "version": "3.12.0"
  }
 },
 "nbformat": 4,
 "nbformat_minor": 2
}
